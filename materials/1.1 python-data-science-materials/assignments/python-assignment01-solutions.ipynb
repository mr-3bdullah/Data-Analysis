{
 "cells": [
  {
   "cell_type": "markdown",
   "metadata": {},
   "source": [
    "# Introduction to Python Programming, Gowrishankar & Veena (2019)"
   ]
  },
  {
   "cell_type": "markdown",
   "metadata": {},
   "source": [
    "## Chapter(2) Programming Exercises - Python Basics"
   ]
  },
  {
   "cell_type": "markdown",
   "metadata": {},
   "source": [
    "### 9. Write a program to read two integers and perform arithmetic operations on them (addition, subtraction, multiplication and division)."
   ]
  },
  {
   "cell_type": "code",
   "execution_count": 1,
   "metadata": {},
   "outputs": [
    {
     "name": "stdout",
     "output_type": "stream",
     "text": [
      "Enter the 1st number: 7\n",
      "Enter the 2nd number: 3\n",
      "7 + 3 = 10\n",
      "7 - 3 = 4\n",
      "7 * 3 = 21\n",
      "7 / 3 = 2.3333333333333335\n"
     ]
    }
   ],
   "source": [
    "# Inputting the numbers\n",
    "num1 = int(input(\"Enter the 1st number: \"))\n",
    "num2 = int(input(\"Enter the 2nd number: \"))\n",
    "\n",
    "# Arithmetic operations\n",
    "add = num1 + num2 # Addition\n",
    "sub = num1 - num2 # Subtraction\n",
    "mul = num1 * num2 # Multiplication\n",
    "div = num1 / num2 # Division\n",
    "\n",
    "# Printing the final result\n",
    "print(f\"{num1} + {num2} = {add}\")\n",
    "print(f\"{num1} - {num2} = {sub}\")\n",
    "print(f\"{num1} * {num2} = {mul}\")\n",
    "print(f\"{num1} / {num2} = {div}\")"
   ]
  },
  {
   "cell_type": "markdown",
   "metadata": {},
   "source": [
    "### 10. Write a program to read the marks of three subjects and find the average of them."
   ]
  },
  {
   "cell_type": "code",
   "execution_count": 2,
   "metadata": {},
   "outputs": [
    {
     "name": "stdout",
     "output_type": "stream",
     "text": [
      "Enter the 1st mark: 12.5\n",
      "Enter the 1st mark: 11\n",
      "Enter the 1st mark: 19\n",
      "Average = 14.17\n"
     ]
    }
   ],
   "source": [
    "# Getting marks of the three subjects\n",
    "mark1 = float(input(\"Enter the 1st mark: \"))\n",
    "mark2 = float(input(\"Enter the 1st mark: \"))\n",
    "mark3 = float(input(\"Enter the 1st mark: \"))\n",
    "\n",
    "# Calculating the average\n",
    "average = (mark1 + mark2 + mark3) / 3\n",
    "\n",
    "# Printing the final results\n",
    "print(\"Average = {:.2f}\".format(average))"
   ]
  },
  {
   "cell_type": "markdown",
   "metadata": {},
   "source": [
    "### 11. Write a program to convert kilogram into pound."
   ]
  },
  {
   "cell_type": "code",
   "execution_count": 3,
   "metadata": {},
   "outputs": [
    {
     "name": "stdout",
     "output_type": "stream",
     "text": [
      "Enter kilograms value to be converted: 10\n",
      "10.0 kgs equal to 22.05 lbs\n"
     ]
    }
   ],
   "source": [
    "# Let's get an input for conversion\n",
    "kg = float(input(\"Enter kilograms value to be converted: \"))\n",
    "\n",
    "# Converting and printing the result\n",
    "print(\"%s kgs equal to %.2f lbs\" %(kg, (2.205 * kg)))"
   ]
  },
  {
   "cell_type": "markdown",
   "metadata": {},
   "source": [
    "### 12. Surface area of a prism can be calculated if the lengths of the three sides are known. Write a program that takes the sides as input (read it as integer) and prints the surface area of the prism (Surface Area = 2ab + 2bc + 2ca)."
   ]
  },
  {
   "cell_type": "code",
   "execution_count": 4,
   "metadata": {},
   "outputs": [
    {
     "name": "stdout",
     "output_type": "stream",
     "text": [
      "Enter the first side value of the prism: 1\n",
      "Enter the second side value of the prism: 2\n",
      "Enter the third side value of the prism: 3\n",
      "Area of the prism is: 22.0\n"
     ]
    }
   ],
   "source": [
    "# Taking the sides of a prism\n",
    "a = float(input(\"Enter the first side value of the prism: \"))\n",
    "b = float(input(\"Enter the second side value of the prism: \"))\n",
    "c = float(input(\"Enter the third side value of the prism: \"))\n",
    "\n",
    "# Calculating the surface area\n",
    "area = (2*a*b) + (2*b*c) + (2*c*a)\n",
    "\n",
    "# Printing the area\n",
    "print(\"Area of the prism is:\", area)"
   ]
  },
  {
   "cell_type": "markdown",
   "metadata": {},
   "source": [
    "### 13. A plane travels 395,000 meters in 9000 seconds. Write a program to find the speed of the plane (Speed = Distance / Time)."
   ]
  },
  {
   "cell_type": "code",
   "execution_count": 5,
   "metadata": {},
   "outputs": [
    {
     "name": "stdout",
     "output_type": "stream",
     "text": [
      "The speed of a plane travels 395,000 meters in 9000 seconds: 43.889 meters/seconds\n"
     ]
    }
   ],
   "source": [
    "# Calculating and printing the speed of a plane\n",
    "print(\"The speed of a plane travels 395,000 meters in 9000 seconds: %.3f meters/seconds\" %(395000/9000))"
   ]
  },
  {
   "cell_type": "markdown",
   "metadata": {},
   "source": [
    "### 14. You need to empty out the rectangular swimming pool which is 12 meters long, 7  meters wide and 2  meter depth. You have a pump which can move 17  cubic meters of water in an hour. Write a program to find how long it will take to empty your pool? (Volume = l * w * h, and flow = volume/time)."
   ]
  },
  {
   "cell_type": "code",
   "execution_count": 6,
   "metadata": {},
   "outputs": [
    {
     "name": "stdout",
     "output_type": "stream",
     "text": [
      "The time taken to empty the pool is: 9.882352941176471\n"
     ]
    }
   ],
   "source": [
    "# Getting the dimensions of the pool\n",
    "length = 12\n",
    "width = 7\n",
    "height = 2\n",
    "\n",
    "# The flow of the pump\n",
    "flow = 17\n",
    "\n",
    "# Calculating the volume of the pool\n",
    "volume_of_pool = length * width * height\n",
    "\n",
    "# Calculating the time needed to empty the pool\n",
    "time = volume_of_pool / flow\n",
    "\n",
    "#printing the time\n",
    "print(f\"The time taken to empty the pool is: {time}\")"
   ]
  },
  {
   "cell_type": "markdown",
   "metadata": {},
   "source": [
    "### 15. Write a program to convert temperature from centigrade (read it as float value) to Fahrenheit."
   ]
  },
  {
   "cell_type": "code",
   "execution_count": 7,
   "metadata": {},
   "outputs": [
    {
     "name": "stdout",
     "output_type": "stream",
     "text": [
      "Degrees in Celsius: 25\n",
      "25.0 degree Celsius is equal to 77.0 degree Fahrenheit\n"
     ]
    }
   ],
   "source": [
    "# Inputting celsius degree\n",
    "celsius = float(input(\"Degrees in Celsius: \"))\n",
    "\n",
    "# Calculate fahrenheit\n",
    "fahrenheit = (celsius * 1.8) + 32\n",
    "\n",
    "# Outputting the conversion result\n",
    "print('%0.1f degree Celsius is equal to %0.1f degree Fahrenheit' %(celsius,fahrenheit))"
   ]
  },
  {
   "cell_type": "markdown",
   "metadata": {},
   "source": [
    "### 16. Write a program that calculates the number of seconds in a day."
   ]
  },
  {
   "cell_type": "code",
   "execution_count": 8,
   "metadata": {},
   "outputs": [
    {
     "name": "stdout",
     "output_type": "stream",
     "text": [
      "The value of the number of seconds in a day:  86400\n"
     ]
    }
   ],
   "source": [
    "# Printing ..\n",
    "print(\"The value of the number of seconds in a day: \", (24*60*60))"
   ]
  },
  {
   "cell_type": "markdown",
   "metadata": {},
   "source": [
    "### 17. A car starts from a stoplight and is traveling with a velocity of 10 m/sec east in 20 seconds. Write a program to find the acceleration of the car. (acc = (vfinal−vinitial)/time)."
   ]
  },
  {
   "cell_type": "code",
   "execution_count": 9,
   "metadata": {},
   "outputs": [
    {
     "name": "stdout",
     "output_type": "stream",
     "text": [
      "The acceleration of the car is: 0.5\n"
     ]
    }
   ],
   "source": [
    "# Setting values\n",
    "vinitial = 0; vfinal = 10; time = 20\n",
    "\n",
    "# Calculating the acceleration\n",
    "acc = (vfinal - vinitial) / time\n",
    "\n",
    "# Printing the acceleration\n",
    "print(f\"The acceleration of the car is: {acc}\")"
   ]
  },
  {
   "cell_type": "markdown",
   "metadata": {},
   "source": [
    "=========="
   ]
  },
  {
   "cell_type": "markdown",
   "metadata": {},
   "source": [
    "## Chapter(3) Programming Exercises - Control Flow"
   ]
  },
  {
   "cell_type": "markdown",
   "metadata": {},
   "source": [
    "### 10. Write a program to read the Richter magnitude value from the user and display the result for the following conditions using if...elif...else statement."
   ]
  },
  {
   "cell_type": "markdown",
   "metadata": {},
   "source": [
    "| Richter Magnitude  \t| Information                                     \t|\n",
    "|--------------------\t|-------------------------------------------------\t|\n",
    "| > 1.0 and < 2.0    \t| Microearthquakes not felt or rarely felt        \t|\n",
    "| > 2.0 and < 4.0    \t| Very rarely causes damage                       \t|\n",
    "| > 4.0 and < 5.0    \t| Damage done to weak buildings                   \t|\n",
    "| > 5.0 and < 6.0    \t| Cause damage to the poorly constructed building \t|\n",
    "| > 6.0 and < 7.0    \t| Causes damage to well-built structures          \t|\n",
    "| > 7.0 and < 8.0    \t| Causes damage to most buildings                 \t|\n",
    "| > 8.0 and < 9.0    \t| Causes major destruction                        \t|\n",
    "| > 9.0              \t| Causes unbelievable damage                      \t|"
   ]
  },
  {
   "cell_type": "code",
   "execution_count": 10,
   "metadata": {},
   "outputs": [
    {
     "name": "stdout",
     "output_type": "stream",
     "text": [
      "Enter the richter magnitude: 4.5\n",
      "Damage done to weak buildings\n"
     ]
    }
   ],
   "source": [
    "# Inputting the richter magnitude of the earthquake\n",
    "r = float(input(\"Enter the richter magnitude: \"))\n",
    "\n",
    "#checking for every case wih the number and printing the damage the earthquake might result in\n",
    "\n",
    "if r >= 1.0 and r < 2.0:\n",
    "    print(\"Microearthquakes not felt or rarely felt\")\n",
    "elif r >= 2.0 and r < 4.0: \n",
    "    print(\"Very rarely causes damage\")\n",
    "elif r >= 4.0 and r < 5.0:\n",
    "    print(\"Damage done to weak buildings\")\n",
    "elif r >= 5.0 and r < 6.0:\n",
    "    print(\"Cause damage to the poorly constructed building\")\n",
    "elif r >= 6.0 and r < 7.0:\n",
    "    print(\"Causes damage to well-built structures\")\n",
    "elif r >= 7.0 and r < 8.0:\n",
    "    print(\"Causes damage to most buildings\")\n",
    "elif r >= 8.0 and r < 9.0:\n",
    "    print(\"Causes major destruction\")\n",
    "elif r >= 9.0:\n",
    "    print(\"Causes unbelievable damage\")\n",
    "else:\n",
    "    print(\"You entered an invalid value!\")"
   ]
  },
  {
   "cell_type": "markdown",
   "metadata": {},
   "source": [
    "### 11. Write a program to display Pascal’s triangle."
   ]
  },
  {
   "cell_type": "code",
   "execution_count": 11,
   "metadata": {},
   "outputs": [
    {
     "data": {
      "image/jpeg": "[encoded data removed]",
      "text/plain": [
       "<IPython.core.display.Image object>"
      ]
     },
     "execution_count": 11,
     "metadata": {
      "image/jpeg": {
       "height": 400,
       "width": 400
      }
     },
     "output_type": "execute_result"
    }
   ],
   "source": [
    "from IPython.display import Image\n",
    "Image(filename = \"data/pascal.jpg\", width = 400, height = 400)"
   ]
  },
  {
   "cell_type": "code",
   "execution_count": null,
   "metadata": {},
   "outputs": [],
   "source": []
  },
  {
   "cell_type": "markdown",
   "metadata": {},
   "source": [
    "### 12. Write a program to display the following pattern using nested loops.<br>\n",
    "1 &emsp;&emsp;&emsp;&emsp;&emsp;&emsp;&emsp;&emsp; 1<br>\n",
    "22 &emsp;&emsp;&emsp;&emsp;&emsp;&emsp;&emsp; 21<br>\n",
    "333 &emsp;&emsp;&emsp;&emsp;&emsp;&emsp; 321<br>\n",
    "4444 &emsp;&emsp;&emsp;&emsp;&emsp; 4321<br>\n",
    "55555 &emsp;&emsp;&emsp;&emsp; 54321<br>"
   ]
  },
  {
   "cell_type": "code",
   "execution_count": 12,
   "metadata": {},
   "outputs": [
    {
     "name": "stdout",
     "output_type": "stream",
     "text": [
      "1\n",
      "22\n",
      "333\n",
      "4444\n",
      "55555\n"
     ]
    }
   ],
   "source": [
    "# Let's learn how to print the leftmost pattern\n",
    "for i in range(1,6):\n",
    "    print((str(i)*i))"
   ]
  },
  {
   "cell_type": "code",
   "execution_count": 13,
   "metadata": {},
   "outputs": [
    {
     "name": "stdout",
     "output_type": "stream",
     "text": [
      "1\n",
      "12\n",
      "123\n",
      "1234\n",
      "12345\n",
      "\n",
      "1\n",
      "21\n",
      "321\n",
      "4321\n",
      "54321\n"
     ]
    }
   ],
   "source": [
    "# Now, let's print the rightmost pattern\n",
    "\n",
    "# Printing the pattern reversed\n",
    "for i in range(1,6):\n",
    "    for j in range(1,i+1):\n",
    "        print(j, end='')\n",
    "    print()\n",
    "\n",
    "print()    \n",
    "    \n",
    "# Let's rewrite the previous code to print the original pattern\n",
    "for i in range(5):\n",
    "    for j in range(5+i-4,0,-1):\n",
    "        print(j, end='')\n",
    "    print()"
   ]
  },
  {
   "cell_type": "code",
   "execution_count": null,
   "metadata": {},
   "outputs": [],
   "source": [
    "# Here is the final version of this program\n"
   ]
  },
  {
   "cell_type": "markdown",
   "metadata": {},
   "source": [
    "### 13. Write a program that uses a while loop to add up all the even numbers between 100 and 200."
   ]
  },
  {
   "cell_type": "code",
   "execution_count": 14,
   "metadata": {},
   "outputs": [
    {
     "name": "stdout",
     "output_type": "stream",
     "text": [
      "Sum of even numbers between 100 and 200:  7650\n"
     ]
    }
   ],
   "source": [
    "# Setting the sum & the counter value\n",
    "sum = 0\n",
    "num = 100\n",
    "\n",
    "# Iterating to find the sum of even numbers \n",
    "while num <= 200:\n",
    "    if num % 2 == 0:\n",
    "        sum += num\n",
    "    num += 1\n",
    "\n",
    "# Printing the final sum\n",
    "print(\"Sum of even numbers between 100 and 200: \", sum)"
   ]
  },
  {
   "cell_type": "markdown",
   "metadata": {},
   "source": [
    "### 14. Write a program to print the sum of the following series\n",
    "- a. 1 + ½ + 1/3 +. …. + 1/n\n",
    "- b. 1/1 + 22/2 + 33/3 + ……. + nn/n"
   ]
  },
  {
   "cell_type": "code",
   "execution_count": 15,
   "metadata": {},
   "outputs": [
    {
     "name": "stdout",
     "output_type": "stream",
     "text": [
      "Enter the number of terms: 4\n",
      "Sum: 2.08\n"
     ]
    }
   ],
   "source": [
    "# Solving (a)\n",
    "\n",
    "# Getting the value of n\n",
    "n = int(input('Enter the number of terms: '))\n",
    "s = 0\n",
    "i = 1\n",
    "\n",
    "while i <= n:\n",
    "    s += 1/i\n",
    "    i += 1\n",
    "    \n",
    "print(\"Sum: %.2f\" % s)"
   ]
  },
  {
   "cell_type": "code",
   "execution_count": 16,
   "metadata": {},
   "outputs": [
    {
     "name": "stdout",
     "output_type": "stream",
     "text": [
      "Enter the number of terms: 3\n",
      "Sum: 12.00\n"
     ]
    }
   ],
   "source": [
    "# Solving (b)\n",
    "\n",
    "# Getting the value of n\n",
    "n = int(input('Enter the number of terms: '))\n",
    "s = 0\n",
    "i = 1\n",
    "p = 1\n",
    "\n",
    "while i <= n:\n",
    "    s += (i ** p)/i\n",
    "    i += 1\n",
    "    p += 1\n",
    "    \n",
    "print(\"Sum: %.2f\" % s)"
   ]
  },
  {
   "cell_type": "markdown",
   "metadata": {},
   "source": [
    "### 15. Write a program to find the depreciation value of an asset(property) by reading the purchase value of the asset (amt), year of the service (year) and the value of depreciation."
   ]
  },
  {
   "cell_type": "code",
   "execution_count": null,
   "metadata": {},
   "outputs": [],
   "source": []
  },
  {
   "cell_type": "markdown",
   "metadata": {},
   "source": [
    "=========="
   ]
  }
 ],
 "metadata": {
  "kernelspec": {
   "display_name": "Python 3",
   "language": "python",
   "name": "python3"
  },
  "language_info": {
   "codemirror_mode": {
    "name": "ipython",
    "version": 3
   },
   "file_extension": ".py",
   "mimetype": "text/x-python",
   "name": "python",
   "nbconvert_exporter": "python",
   "pygments_lexer": "ipython3",
   "version": "3.8.3"
  }
 },
 "nbformat": 4,
 "nbformat_minor": 4
}
