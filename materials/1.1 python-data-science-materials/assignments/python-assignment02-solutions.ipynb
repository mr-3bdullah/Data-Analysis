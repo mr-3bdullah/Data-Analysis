{
 "cells": [
  {
   "cell_type": "markdown",
   "metadata": {},
   "source": [
    "# Introduction to Python Programming, Gowrishankar & Veena (2018)"
   ]
  },
  {
   "cell_type": "markdown",
   "metadata": {},
   "source": [
    "## Chapter(4) Programming Exercises - Functions"
   ]
  },
  {
   "cell_type": "markdown",
   "metadata": {},
   "source": [
    "### 9. Write a program using functions to perform the arithmetic operations."
   ]
  },
  {
   "cell_type": "code",
   "execution_count": null,
   "metadata": {},
   "outputs": [],
   "source": [
    "# Using lambda function definition\n",
    "add = lambda x,y : x + y \n",
    "sub = lambda x,y : x - y \n",
    "mul = lambda x,y : x * y \n",
    "div = lambda x,y : x / y\n",
    "\n",
    "# Getting input from the user for the numbers and the operation\n",
    "num1 = float(input('Enter the 1st number: '))\n",
    "num2 = float(input('Enter the 2nd number: '))\n",
    "op = input('Also, select the arithmetic operation:\\n\\t\"+\" for addition\\n\\t\"-\" for subtraction\\n\\t\"*\" for multiplication\\n\\t\"/\" for division\\n\\tYour Selection: ')\n",
    "\n",
    "if op == '+':\n",
    "    print('1st + 2nd = ', add(num1,num2))\n",
    "elif op == '-':\n",
    "    print('1st - 2nd = ', sub(num1,num2))\n",
    "elif op == '*':\n",
    "    print('1st * 2nd = ', mul(num1,num2))\n",
    "elif op == '/':\n",
    "    print('1st / 2nd = ', div(num1,num2))\n",
    "else:\n",
    "    print('You entered an invalid operation!')"
   ]
  },
  {
   "cell_type": "markdown",
   "metadata": {},
   "source": [
    "### 10. Write a program to find the largest of three numbers using functions."
   ]
  },
  {
   "cell_type": "code",
   "execution_count": null,
   "metadata": {},
   "outputs": [],
   "source": [
    "# Defining the function\n",
    "def num_largest(a,b,c):\n",
    "    if a >= b and a >= c:\n",
    "        return a\n",
    "    elif b >= a and b >= c:\n",
    "        return b\n",
    "    else:\n",
    "        return c\n",
    "\n",
    "# # Defining the function using the built-in function max()\n",
    "# def num_largest(a,b,c):\n",
    "#     return max(a,b,c)\n",
    "\n",
    "# Getting input from the user for the numbers\n",
    "num1 = float(input('Enter the 1st number: '))\n",
    "num2 = float(input('Enter the 2nd number: '))\n",
    "num3 = float(input('Enter the 3rd number: '))\n",
    "\n",
    "# Finding the largest\n",
    "print('The largest number is:', num_largest(num1, num2, num3))"
   ]
  },
  {
   "cell_type": "markdown",
   "metadata": {},
   "source": [
    "### 11. Write a Python program using functions to find the value of nPr and nCr"
   ]
  },
  {
   "cell_type": "code",
   "execution_count": null,
   "metadata": {},
   "outputs": [],
   "source": [
    "# nPr = n!/(n-r)!, 5P2 = 20\n",
    "# nCr = n!/(n-r)!r!, 5C2 = 10\n",
    "\n",
    "# Defining the permutation function (nPr)\n",
    "def nPr(n,r):\n",
    "    from math import floor, factorial\n",
    "    return floor(factorial(n)/(factorial(n-r)))\n",
    "\n",
    "# Defining the combination function (nPr)\n",
    "def nCr(n,r):\n",
    "    from math import floor, factorial\n",
    "    return factorial(n)/(factorial(n-r)*factorial(r))\n",
    "\n",
    "# Getting input from the user\n",
    "n = int(input('Enter the n value: '))\n",
    "r = int(input('Enter the r vaue: '))\n",
    "\n",
    "print(f'{n}P{r} = {nPr(n,r)}')\n",
    "print(f'{n}C{r} = {nCr(n,r)}')"
   ]
  },
  {
   "cell_type": "markdown",
   "metadata": {},
   "source": [
    "### 12. Write a Python function named area that finds the area of a pentagon."
   ]
  },
  {
   "cell_type": "code",
   "execution_count": null,
   "metadata": {},
   "outputs": [],
   "source": [
    "# pentagon_area = 1/4*(sqrt(5*(5+2*sqrt(5))))*side^2\n",
    "\n",
    "# Defining the function\n",
    "def pentagon_area(side):\n",
    "    from math import sqrt,pow\n",
    "    return (1/4*(sqrt(5*(5+2*sqrt(5))))*pow(side,2))\n",
    "\n",
    "# Getting the input\n",
    "side = float(input('Enter the side value of the pentagon: '))\n",
    "\n",
    "# Outputting the results\n",
    "print('The area of the pentagon is: {:.2f}'.format(pentagon_area(side)))"
   ]
  },
  {
   "cell_type": "markdown",
   "metadata": {},
   "source": [
    "### 13. Write a program using functions to display Pascal’s triangle."
   ]
  },
  {
   "cell_type": "code",
   "execution_count": null,
   "metadata": {},
   "outputs": [],
   "source": []
  },
  {
   "cell_type": "markdown",
   "metadata": {},
   "source": [
    "### 14. Write a program using functions to print harmonic progression series and its sum till N terms."
   ]
  },
  {
   "cell_type": "code",
   "execution_count": null,
   "metadata": {},
   "outputs": [],
   "source": [
    "def hps():\n",
    "    # Getting the value of n\n",
    "    n = int(input('Enter the number of terms: '))\n",
    "    s = 0 # sum\n",
    "    i = 1 # iterator\n",
    "    \n",
    "    print('Our harmonic progression series is: ')\n",
    "    while i <= n:\n",
    "        if i < n:\n",
    "            print('1/'+str(i), end=' + ')\n",
    "        elif i ==n:\n",
    "            print('1/'+str(i))\n",
    "        s += 1/i\n",
    "        i += 1\n",
    "    return s\n",
    "    \n",
    "print('Sum of HPS is:\\n'+str(hps()))"
   ]
  },
  {
   "cell_type": "markdown",
   "metadata": {},
   "source": [
    "### 15. Write a program using functions to do the following tasks:\n",
    "- a. Convert milliseconds to hours, minutes and seconds.\n",
    "- b. Compute a sales commission, given the sales amount and the commission rate.\n",
    "- c. Convert Celsius to Fahrenheit.\n",
    "- d. Compute the monthly payment, given the loan amount, number of years and the annual interest rate."
   ]
  },
  {
   "cell_type": "code",
   "execution_count": null,
   "metadata": {},
   "outputs": [],
   "source": []
  },
  {
   "cell_type": "code",
   "execution_count": null,
   "metadata": {},
   "outputs": [],
   "source": []
  },
  {
   "cell_type": "code",
   "execution_count": null,
   "metadata": {},
   "outputs": [],
   "source": []
  },
  {
   "cell_type": "code",
   "execution_count": null,
   "metadata": {},
   "outputs": [],
   "source": []
  },
  {
   "cell_type": "markdown",
   "metadata": {},
   "source": [
    "=========="
   ]
  },
  {
   "cell_type": "markdown",
   "metadata": {},
   "source": [
    "## Chapter(5) Programming Exercises - Strings"
   ]
  },
  {
   "cell_type": "markdown",
   "metadata": {},
   "source": [
    "### 11. Write a function that takes a string as an argument and displays the letters backward, one per line."
   ]
  },
  {
   "cell_type": "code",
   "execution_count": null,
   "metadata": {},
   "outputs": [],
   "source": [
    "# Getting input\n",
    "my_str = input(\"Enter a string: \")\n",
    "\n",
    "# Reverse the string\n",
    "reversed_str = my_str[::-1]\n",
    "\n",
    "# Printing the letters backward, one perline\n",
    "for i in reversed_str:\n",
    "    print(i)"
   ]
  },
  {
   "cell_type": "markdown",
   "metadata": {},
   "source": [
    "### 12. Write a Python program to access the last character of the string with the help of len() function."
   ]
  },
  {
   "cell_type": "code",
   "execution_count": null,
   "metadata": {},
   "outputs": [],
   "source": [
    "# Getting the last character\n",
    "my_str = input(\"Please input a string: \")\n",
    "print(\"The last character is:\", my_str[len(my_str)-1])"
   ]
  },
  {
   "cell_type": "markdown",
   "metadata": {},
   "source": [
    "### 13. Ask the user for a string, and then for a number. Print out that string, that many times. (For example, if the string is Python and the number is 3 you should print out PythonPythonPython.)"
   ]
  },
  {
   "cell_type": "code",
   "execution_count": null,
   "metadata": {},
   "outputs": [],
   "source": [
    "# Getting user's input\n",
    "my_str = input(\"Please input a string: \")\n",
    "num = int(input(\"Enter a number: \"))\n",
    "\n",
    "# Printing results\n",
    "print(f\"{my_str} by {num} times is: {my_str*num}\")"
   ]
  },
  {
   "cell_type": "markdown",
   "metadata": {},
   "source": [
    "### 14. Write a program that reads the date in the format (dd/mm/yyyy) and replaces the ‘/’ with a ‘-’ and displays the date in (dd-mm-yyyy) format."
   ]
  },
  {
   "cell_type": "code",
   "execution_count": null,
   "metadata": {},
   "outputs": [],
   "source": [
    "# Inputting a date\n",
    "date = input(\"Enter a date to be converted: \")\n",
    "\n",
    "# Replacing the character using replace function\n",
    "print(date.replace('/','-'))\n",
    "\n",
    "print()"
   ]
  },
  {
   "cell_type": "markdown",
   "metadata": {},
   "source": [
    "### 15. Write a function that finds the number of occurrences of a specified character in a string."
   ]
  },
  {
   "cell_type": "code",
   "execution_count": null,
   "metadata": {},
   "outputs": [],
   "source": [
    "# Inputting a string\n",
    "my_str = input(\"Write a string: \")\n",
    "\n",
    "# Defining the character to find its occurrences\n",
    "char = input(\"Specify a character to find its occurrences: \")\n",
    "\n",
    "count = 0 # Number of occurrences\n",
    "\n",
    "for i in my_str:\n",
    "    if i == char:\n",
    "        count += 1\n",
    "\n",
    "# Outputting the results\n",
    "print(f\"Number of occurrence for the character {char} in the string {my_str} is: {count}\")"
   ]
  },
  {
   "cell_type": "markdown",
   "metadata": {},
   "source": [
    "### 16. Write a program that parses a binary number to a decimal integer. For example, 11001 (1 * $2^{4}$ + 1 * $2^{3}$ + 0 * $2^{2}$ + 0 * $2^{1}$ + 1 * $2^{0}$)."
   ]
  },
  {
   "cell_type": "code",
   "execution_count": null,
   "metadata": {},
   "outputs": [],
   "source": [
    "# Getting the binary number\n",
    "num = input(\"Enter a binary number: \")\n",
    "\n",
    "sum = 0\n",
    "pow = len(num)-1\n",
    "\n",
    "# Converting binary number to a decimal integer\n",
    "for i in range(len(num)):\n",
    "    sum += int(num[i]) * (2 ** pow)\n",
    "    pow -= 1\n",
    "    \n",
    "print(f'({num})bin = ({sum})dec')"
   ]
  },
  {
   "cell_type": "markdown",
   "metadata": {},
   "source": [
    "### 18. Write a program that accepts a string from the user and display the same string after removing vowels from it."
   ]
  },
  {
   "cell_type": "code",
   "execution_count": null,
   "metadata": {},
   "outputs": [],
   "source": [
    "# Inputting a string\n",
    "my_str = input(\"Enter a string: \")\n",
    "\n",
    "# Setting vowels are A, E, I, O, and U\n",
    "vowels = ['A','a','E','e','I','i','O','o','U','u']\n",
    "\n",
    "# Defining another string to store the old string without vowels\n",
    "new_str = []\n",
    "\n",
    "for i in my_str:\n",
    "    if i not in vowels:\n",
    "        new_str.append(i)\n",
    "        \n",
    "# Printing the new string\n",
    "print(\"The new string after removing vowels:\", ''.join(new_str))"
   ]
  },
  {
   "cell_type": "markdown",
   "metadata": {},
   "source": [
    "### 19. Write a function to insert a string in the middle of the string."
   ]
  },
  {
   "cell_type": "code",
   "execution_count": null,
   "metadata": {},
   "outputs": [],
   "source": [
    "# Inputting the strings\n",
    "my_str = input(\"Enter the basic string: \")\n",
    "your_str = input(\"Also, enter your string to embed it: \")\n",
    "\n",
    "index = len(my_str)//2\n",
    "\n",
    "my_lst = list(my_str)\n",
    "my_lst.insert(index, your_str)\n",
    "\n",
    "print(\"The new string after embedding is:\", ''.join(my_lst))"
   ]
  },
  {
   "cell_type": "markdown",
   "metadata": {},
   "source": [
    "### 20. Write a program to sort a string lexicographically"
   ]
  },
  {
   "cell_type": "code",
   "execution_count": null,
   "metadata": {},
   "outputs": [],
   "source": [
    "# Inputting a string\n",
    "my_str = input(\"Enter a string: \")\n",
    "\n",
    "print(\"After Sorting:\", sorted(my_str, key=str.upper))"
   ]
  },
  {
   "cell_type": "markdown",
   "metadata": {},
   "source": [
    "### 21. Write a program to replace a string with another string without using built-in methods."
   ]
  },
  {
   "cell_type": "code",
   "execution_count": null,
   "metadata": {},
   "outputs": [],
   "source": [
    "# Inputting strings\n",
    "str1 = input(\"Enter the 1st string: \")\n",
    "str2 = input(\"Enter the 2nd st string: \")\n",
    "\n",
    "print(f'Before replacing: 1st = {str1}, 2nd = {str2}')\n",
    "\n",
    "# Swapping strings\n",
    "str1, str2 = str2, str1\n",
    "\n",
    "print(f'After replacing: 1st = {str1}, 2nd = {str2}')"
   ]
  },
  {
   "cell_type": "markdown",
   "metadata": {},
   "source": [
    "### 22. Write a program to concatenate two strings into another string without using the + operator."
   ]
  },
  {
   "cell_type": "code",
   "execution_count": null,
   "metadata": {},
   "outputs": [],
   "source": [
    "# Inputting strings\n",
    "str1 = input(\"Enter the 1st string: \")\n",
    "str2 = input(\"Enter the 2nd st string: \")\n",
    "str3 = input(\"Enter the 3rd st string: \")\n",
    "\n",
    "my_lst = list(str1)\n",
    "\n",
    "print(\"Before concatenation:\", str1)\n",
    "\n",
    "my_lst.extend(str2)\n",
    "my_lst.extend(str3)\n",
    "\n",
    "print(\"After concatenation:\", ''.join(my_lst))"
   ]
  },
  {
   "cell_type": "markdown",
   "metadata": {},
   "source": [
    "### 23. Write a program to strip a set of characters from a string."
   ]
  },
  {
   "cell_type": "code",
   "execution_count": 6,
   "metadata": {},
   "outputs": [
    {
     "name": "stdout",
     "output_type": "stream",
     "text": [
      "Enter a set of characters sperated by space: a b c d\n",
      "Also, enter the string to be stripped: Mustafa Othman\n",
      "The final string is: Mustf Othmn\n"
     ]
    }
   ],
   "source": [
    "# Inputting the list of characters & the string to strip\n",
    "char = input(\"Enter a set of characters sperated by space: \").split()\n",
    "string = input(\"Also, enter the string to be stripped: \")\n",
    "\n",
    "s = []\n",
    "\n",
    "for c in string:\n",
    "    if c not in char:\n",
    "        s.append(c)\n",
    "\n",
    "print(\"The final string is:\", ''.join(s))"
   ]
  },
  {
   "cell_type": "markdown",
   "metadata": {},
   "source": [
    "### 24. Write a program to extract the first n characters of a string."
   ]
  },
  {
   "cell_type": "code",
   "execution_count": null,
   "metadata": {},
   "outputs": [],
   "source": [
    "# Inputting a string & n characters\n",
    "my_str = input(\"Enter a string: \")\n",
    "n = int(input(\"Also, enter the number of characters to be extracted: \"))\n",
    "\n",
    "if n < 0 or n > len(my_str):\n",
    "    print('Out of range!')\n",
    "else:\n",
    "    print(\"The extracted characters are: \", my_str[:n+1])"
   ]
  },
  {
   "cell_type": "code",
   "execution_count": null,
   "metadata": {},
   "outputs": [],
   "source": []
  },
  {
   "cell_type": "markdown",
   "metadata": {},
   "source": [
    "=========="
   ]
  },
  {
   "cell_type": "markdown",
   "metadata": {},
   "source": [
    "## Chapter(6) Programming Exercises - Lists"
   ]
  },
  {
   "cell_type": "markdown",
   "metadata": {},
   "source": [
    "### 7. Write a program that creates a list of 10 random integers. Then create two lists by name odd_list and even_list that have all odd and even values of the list respectively."
   ]
  },
  {
   "cell_type": "code",
   "execution_count": null,
   "metadata": {},
   "outputs": [],
   "source": [
    "# Creating the random list\n",
    "import random\n",
    "\n",
    "basic_list = []\n",
    "even_list = []\n",
    "odd_list = []\n",
    "\n",
    "for i in range(10):\n",
    "    basic_list.append(random.randint(0, 9))\n",
    "\n",
    "for i in basic_list:\n",
    "    if i % 2 == 0:\n",
    "        even_list.append(i)\n",
    "    else:\n",
    "        odd_list.append(i)\n",
    "    \n",
    "print(\"The random list is:\", basic_list)\n",
    "print(\"The even list is:\", even_list)\n",
    "print(\"The odd list is:\", odd_list)"
   ]
  },
  {
   "cell_type": "markdown",
   "metadata": {},
   "source": [
    "### 8. Write a program to sort the elements in ascending order using insertion sort."
   ]
  },
  {
   "cell_type": "code",
   "execution_count": null,
   "metadata": {},
   "outputs": [],
   "source": [
    "# Define the list\n",
    "arr = [12, 11, 13, 5, 6] \n",
    "print(\"Here is our list before sorting:\", arr)\n",
    "\n",
    "# Iterating over the full list to sort it\n",
    "for i in range(1, len(arr)): # Starting from the second element\n",
    "    key = arr[i] \n",
    "    j = i-1\n",
    "    while j >= 0 and key < arr[j] : \n",
    "            arr[j + 1] = arr[j] \n",
    "            j -= 1\n",
    "    arr[j + 1] = key\n",
    "\n",
    "print(\"The sorted list using 'Insertion Sort' is:\", arr)"
   ]
  },
  {
   "cell_type": "markdown",
   "metadata": {},
   "source": [
    "### 9. Write a Python program to use binary search to find the key element in the list."
   ]
  },
  {
   "cell_type": "code",
   "execution_count": null,
   "metadata": {},
   "outputs": [],
   "source": [
    "# Define the list & setting all other values\n",
    "item_list = [ 2, 3, 4, 10, 40 ]\n",
    "item = 10 # The number to search for\n",
    "first = 0 # First index\n",
    "last = len(item_list)-1 # Last index\n",
    "found = False \n",
    "\n",
    "print(\"List items:\", item_list)\n",
    "\n",
    "# Iterating over the list and divide it evenly every time\n",
    "while( first <= last and not found):\n",
    "    mid = (first + last)//2\n",
    "    if item_list[mid] == item :\n",
    "        found = True\n",
    "    else:\n",
    "        if item < item_list[mid]:\n",
    "            last = mid - 1\n",
    "        else:\n",
    "            first = mid + 1\n",
    "\n",
    "print(f\"Is '{item}' found in {item_list}? {found}\")"
   ]
  },
  {
   "cell_type": "markdown",
   "metadata": {},
   "source": [
    "### 11. Write a program to sort the elements in ascending order using selection sort."
   ]
  },
  {
   "cell_type": "code",
   "execution_count": null,
   "metadata": {},
   "outputs": [],
   "source": [
    "# Define the list\n",
    "A = [64, 25, 12, 22, 11]\n",
    "print(\"Here is our list before sorting:\", A)\n",
    "  \n",
    "# Traverse through all list elements \n",
    "for i in range(len(A)):    \n",
    "    # Find the minimum element in remaining unsorted list \n",
    "    min_idx = i \n",
    "    for j in range(i+1, len(A)): \n",
    "        if A[min_idx] > A[j]: \n",
    "            min_idx = j          \n",
    "    # Swap the found minimum element with the first element         \n",
    "    A[i], A[min_idx] = A[min_idx], A[i]\n",
    "    \n",
    "print(\"The sorted list using 'Selection Sort' is:\", A)"
   ]
  },
  {
   "cell_type": "markdown",
   "metadata": {},
   "source": [
    "### 12. Write a program that prints the maximum value of the second half of the list."
   ]
  },
  {
   "cell_type": "code",
   "execution_count": null,
   "metadata": {},
   "outputs": [],
   "source": [
    "lst = [12,22,4,66,21,66,74]\n",
    "print(\"The maximum value of the second half of the list is:\", max(lst[len(lst)//2:]))"
   ]
  },
  {
   "cell_type": "markdown",
   "metadata": {},
   "source": [
    "### 13. Write a program that creates a list of numbers 1–100 that are either divisible by 5 or 6."
   ]
  },
  {
   "cell_type": "code",
   "execution_count": null,
   "metadata": {},
   "outputs": [],
   "source": [
    "# Defining a list\n",
    "lst = []\n",
    "\n",
    "# Checking for elements\n",
    "for i in range(1,101):\n",
    "    if i % 5 == 0 or i % 6 == 0:\n",
    "        lst.append(i)\n",
    "\n",
    "# Printing the results\n",
    "print(\"List of numbers 1-100 that are divisible by 5 or 6:\\n\",lst)"
   ]
  },
  {
   "cell_type": "markdown",
   "metadata": {},
   "source": [
    "### 14. Write a function that prompts the user to enter five numbers, then invoke a function to find the GCD of these numbers."
   ]
  },
  {
   "cell_type": "code",
   "execution_count": 4,
   "metadata": {},
   "outputs": [
    {
     "name": "stdout",
     "output_type": "stream",
     "text": [
      "Enter a list elements separated by space: 10 15 5 20 100\n",
      "The GCD of these numbers is: 5\n"
     ]
    }
   ],
   "source": [
    "# Getting user's inputs\n",
    "usr_lst = input(\"Enter a list elements separated by space: \").split()\n",
    "int_lst = []\n",
    "\n",
    "# Converting user input into an integer list\n",
    "for num in usr_lst:\n",
    "    int_lst.append(int(num))\n",
    "\n",
    "# Importing gcd() method from math module    \n",
    "import math\n",
    "gcd = 0\n",
    "\n",
    "# Find the gcd of all numbers\n",
    "for i in int_lst:\n",
    "    gcd = math.gcd(gcd, i)\n",
    "\n",
    "# Printing the results\n",
    "print(\"The GCD of these numbers is:\", gcd)"
   ]
  },
  {
   "cell_type": "markdown",
   "metadata": {},
   "source": [
    "=========="
   ]
  },
  {
   "cell_type": "markdown",
   "metadata": {},
   "source": [
    "## Chapter(7) Programming Exercises - Dictionaries"
   ]
  },
  {
   "cell_type": "markdown",
   "metadata": {},
   "source": [
    "### 5. Write a function that prompts the user for the average temperature for each day of the week and returns a dictionary containing the entered information."
   ]
  },
  {
   "cell_type": "code",
   "execution_count": null,
   "metadata": {},
   "outputs": [],
   "source": []
  },
  {
   "cell_type": "markdown",
   "metadata": {},
   "source": [
    "### 6. Write a Python program to input information about a few employees as given below: a. Name b. Employee Id c. Salary. The program should output the employee ID and salary of a specified employee, given his name."
   ]
  },
  {
   "cell_type": "code",
   "execution_count": null,
   "metadata": {},
   "outputs": [],
   "source": []
  },
  {
   "cell_type": "markdown",
   "metadata": {},
   "source": [
    "### 7. Write a function named addfruit, which is passed with a set of fruit names and their prices and returns a dictionary containing the entered information and raises a ValueError exception if the fruit is already present."
   ]
  },
  {
   "cell_type": "code",
   "execution_count": null,
   "metadata": {},
   "outputs": [],
   "source": []
  },
  {
   "cell_type": "markdown",
   "metadata": {},
   "source": [
    "### 8. Write a function to add the air quality index as the value and the date as the key; create the dictionary for the entered information"
   ]
  },
  {
   "cell_type": "code",
   "execution_count": null,
   "metadata": {},
   "outputs": [],
   "source": []
  },
  {
   "cell_type": "markdown",
   "metadata": {},
   "source": [
    "### 9. Create a dictionary that contains usernames as the key and passwords as the associated values. Make up the data for five dictionary entries and demonstrate the use of clear and fromkeys() methods."
   ]
  },
  {
   "cell_type": "code",
   "execution_count": null,
   "metadata": {},
   "outputs": [],
   "source": []
  },
  {
   "cell_type": "markdown",
   "metadata": {},
   "source": [
    "### 10. Write Pythonic code to create a dictionary that accepts a country name as a key and its capital city as the value. Display the details in sorted order."
   ]
  },
  {
   "cell_type": "code",
   "execution_count": null,
   "metadata": {},
   "outputs": [],
   "source": []
  },
  {
   "cell_type": "markdown",
   "metadata": {},
   "source": [
    "### 11. Write a program that has the dictionary of your friends’ names as keys and phone numbers as its values. Print the dictionary in a sorted order. Prompt the user to enter the name and check if it is present in the dictionary. If the name is not present, then enter the details in the dictionary."
   ]
  },
  {
   "cell_type": "code",
   "execution_count": null,
   "metadata": {},
   "outputs": [],
   "source": []
  },
  {
   "cell_type": "markdown",
   "metadata": {},
   "source": [
    "### 12. Write a program to create a dictionary containing the author name as the keys and ISBN number as the value. Make up the data for five dictionary entries and demonstrate the use of clear() and fromkeys() methods."
   ]
  },
  {
   "cell_type": "code",
   "execution_count": null,
   "metadata": {},
   "outputs": [],
   "source": []
  },
  {
   "cell_type": "markdown",
   "metadata": {},
   "source": [
    "=========="
   ]
  },
  {
   "cell_type": "markdown",
   "metadata": {},
   "source": [
    "## Chapter(8) Programming Exercises - Tuples & Sets"
   ]
  },
  {
   "cell_type": "markdown",
   "metadata": {},
   "source": [
    "### 11. Write a program to unpack a tuple to several variables."
   ]
  },
  {
   "cell_type": "code",
   "execution_count": null,
   "metadata": {},
   "outputs": [],
   "source": [
    "# Defining a tuple and print it\n",
    "tup = (1,24,18)\n",
    "print(f'Tuple: {tup}')\n",
    "\n",
    "# Unpacking values and print them\n",
    "a,b,c = tup\n",
    "print(f'Unpacking: a = {a}, b = {b}, c = {c}')"
   ]
  },
  {
   "cell_type": "markdown",
   "metadata": {},
   "source": [
    "### 12. Write a program to check whether an item exists within a tuple."
   ]
  },
  {
   "cell_type": "code",
   "execution_count": null,
   "metadata": {},
   "outputs": [],
   "source": [
    "# It is trivial as follows\n",
    "5 in (1,43,21,5,0)"
   ]
  },
  {
   "cell_type": "markdown",
   "metadata": {},
   "source": [
    "### 13. Write a program to unzip a list of tuples into individual lists."
   ]
  },
  {
   "cell_type": "code",
   "execution_count": null,
   "metadata": {},
   "outputs": [],
   "source": [
    "# Defining a list of tuples\n",
    "lst_tup = [(1,2),(3,4),(5,6)]\n",
    "print('Before Unzipping:', lst_tup)\n",
    "\n",
    "# Unzipping the list\n",
    "lst1, lst2, lst3 = list(x[0]), list(x[1]), list(x[2])\n",
    "\n",
    "# Printing the results\n",
    "print('After Unzipping:')\n",
    "print('lst1 =', lst1, ', lst2 =', lst2, ', lst3 =', lst3)"
   ]
  },
  {
   "cell_type": "markdown",
   "metadata": {},
   "source": [
    "### 14. Write a program to create an intersection, union, set difference, and symmetric difference of sets."
   ]
  },
  {
   "cell_type": "code",
   "execution_count": null,
   "metadata": {},
   "outputs": [],
   "source": [
    "# Defining sets\n",
    "A = {1,2,3,4}\n",
    "B = {3,4,5,6}\n",
    "print('A =', A, '\\nB =', B)\n",
    "\n",
    "# Intersection\n",
    "print('Intersection: A & B = ', A.intersection(B))\n",
    "# Union\n",
    "print('Union: A | B = ', A.union(B))\n",
    "# Difference\n",
    "print('Difference: A - B = ', A.difference(B))\n",
    "# Symmetric difference\n",
    "print('Symmetric Difference: A ^ B = ', A.symmetric_difference(B))"
   ]
  },
  {
   "cell_type": "markdown",
   "metadata": {},
   "source": [
    "### 15. Write a program to demonstrate the use of issubset() and issuperset() methods."
   ]
  },
  {
   "cell_type": "code",
   "execution_count": null,
   "metadata": {},
   "outputs": [],
   "source": [
    "# Defining sets\n",
    "A = {1,2,3,4}\n",
    "B = {3,4}\n",
    "print('A =', A, '\\nB =', B)\n",
    "\n",
    "print('Is A a subset of B?', A.issubset(B))\n",
    "print('Is A a superset of B?', A.issuperset(B))"
   ]
  },
  {
   "cell_type": "markdown",
   "metadata": {},
   "source": [
    "### 16. Write a program that takes a range and creates a list of tuples within that range with the first element as the number and the second element as the square of the number."
   ]
  },
  {
   "cell_type": "code",
   "execution_count": null,
   "metadata": {},
   "outputs": [],
   "source": [
    "# Inputting a range\n",
    "r = int(input(\"Enter a number to set a range value from it: \"))\n",
    "\n",
    "# Defining two empty lists\n",
    "first_list = []\n",
    "second_list = []\n",
    "\n",
    "# Filling the lists\n",
    "for i in range(r+1):\n",
    "    first_list.append(i)\n",
    "    second_list.append(i**2)\n",
    "    \n",
    "# Printing the results\n",
    "print('Number list:', first_list)\n",
    "print('Squared list:', second_list)\n",
    "print(\"Putting it all together: \", [x for x in zip(first_list, second_list)])"
   ]
  },
  {
   "cell_type": "markdown",
   "metadata": {},
   "source": [
    "### 17. Write a program to clear a set."
   ]
  },
  {
   "cell_type": "code",
   "execution_count": null,
   "metadata": {},
   "outputs": [],
   "source": [
    "# Declaring a set \n",
    "s = {6, 0, 4, 1} \n",
    "print('The set before clear:', s) \n",
    "  \n",
    "# clearing the set \n",
    "s.clear() \n",
    "print('The set after clear:', s)  "
   ]
  },
  {
   "cell_type": "markdown",
   "metadata": {},
   "source": [
    "### 18. Write a program to find the length of the set."
   ]
  },
  {
   "cell_type": "code",
   "execution_count": null,
   "metadata": {},
   "outputs": [],
   "source": [
    "# Defining the list\n",
    "s = {'a','b','c','d','e','a','e','c','c','b'}\n",
    "print('The set:', s)\n",
    "\n",
    "# Printing the length of the list\n",
    "print('Length of the set:', len(s))"
   ]
  },
  {
   "cell_type": "markdown",
   "metadata": {},
   "source": [
    "### 19. Write a program to store the latitude and longitude of your house as a tuple and display it."
   ]
  },
  {
   "cell_type": "code",
   "execution_count": null,
   "metadata": {},
   "outputs": [],
   "source": [
    "# Inputting values\n",
    "latitude = float(input(\"Enter the latitude of your house: \"))\n",
    "longitude = float(input(\"Also, enter the longitude: \"))\n",
    "\n",
    "# Declaring a tuple\n",
    "tup = latitude, longitude\n",
    "\n",
    "# Printing the coordinates values\n",
    "print('\\nYour exact location is:', tup)"
   ]
  },
  {
   "cell_type": "markdown",
   "metadata": {},
   "source": [
    "=========="
   ]
  }
 ],
 "metadata": {
  "kernelspec": {
   "display_name": "Python 3",
   "language": "python",
   "name": "python3"
  },
  "language_info": {
   "codemirror_mode": {
    "name": "ipython",
    "version": 3
   },
   "file_extension": ".py",
   "mimetype": "text/x-python",
   "name": "python",
   "nbconvert_exporter": "python",
   "pygments_lexer": "ipython3",
   "version": "3.8.3"
  }
 },
 "nbformat": 4,
 "nbformat_minor": 4
}
