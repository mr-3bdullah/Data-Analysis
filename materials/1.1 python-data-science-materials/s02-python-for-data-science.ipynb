{
 "cells": [
  {
   "cell_type": "markdown",
   "metadata": {},
   "source": [
    "# Python for Data Science Essentials"
   ]
  },
  {
   "cell_type": "markdown",
   "metadata": {},
   "source": [
    "## Today's Outline\n",
    "- Python for Data Science & Analysis\n",
    "    - Basic Data Structures\n",
    "        - List\n",
    "        - Tuple\n",
    "        - Set\n",
    "        - Dictionary\n",
    "    - Functions & Modules\n",
    "    - File I/O\n",
    "    - Iterator & Generator\n",
    "    - Python Libraries for Data Science\n",
    "- Practical Exercises"
   ]
  },
  {
   "cell_type": "markdown",
   "metadata": {},
   "source": [
    "## Basic Data Structures"
   ]
  },
  {
   "cell_type": "markdown",
   "metadata": {},
   "source": [
    "| Type Name  \t| Example               \t| Description                           \t|\n",
    "|------------\t|-----------------------\t|---------------------------------------\t|\n",
    "| string       \t| \"abc\"             \t| Immutable - Ordered - Allow Duplication               |\n",
    "| list       \t| [1, 2, 3]             \t| Mutable - Ordered - Allow Duplication               |\n",
    "| tuple      \t| (1, 2, 3)             \t| Immutable - Ordered - Allow Duplication           \t|\n",
    "| dict       \t| {'a':1, 'b':2, 'c':3} \t| Mutable - Unordered - Doesn't Allow Duplication  |\n",
    "| set        \t| {1, 2, 3}             \t| Mutable - Unordered - Doesn't Allow Duplication\t|"
   ]
  },
  {
   "cell_type": "markdown",
   "metadata": {},
   "source": [
    "### List"
   ]
  },
  {
   "cell_type": "markdown",
   "metadata": {},
   "source": [
    "#### Defining Lists"
   ]
  },
  {
   "cell_type": "code",
   "execution_count": 1,
   "metadata": {},
   "outputs": [],
   "source": [
    "integer_list = [1,2,3,4]"
   ]
  },
  {
   "cell_type": "code",
   "execution_count": 2,
   "metadata": {},
   "outputs": [],
   "source": [
    "heterogeneous_list = [\"Ahmed\", 0.1, None, 42, False]"
   ]
  },
  {
   "cell_type": "code",
   "execution_count": 3,
   "metadata": {},
   "outputs": [],
   "source": [
    "list_of_lists =  [integer_list, heterogeneous_list, [], ]"
   ]
  },
  {
   "cell_type": "code",
   "execution_count": 4,
   "metadata": {},
   "outputs": [
    {
     "name": "stdout",
     "output_type": "stream",
     "text": [
      "Type: <class 'list'>\n",
      "Length: 3\n",
      "Sum: 10\n"
     ]
    }
   ],
   "source": [
    "print(\"Type:\", type(heterogeneous_list))\n",
    "print(\"Length:\", len(list_of_lists))\n",
    "print(\"Sum:\", sum(integer_list))"
   ]
  },
  {
   "cell_type": "code",
   "execution_count": 5,
   "metadata": {},
   "outputs": [
    {
     "data": {
      "text/plain": [
       "['M', 'u', 's', 't', 'a', 'f', 'a']"
      ]
     },
     "execution_count": 5,
     "metadata": {},
     "output_type": "execute_result"
    }
   ],
   "source": [
    "# Define a list using list() function\n",
    "y = list('Mustafa'); y"
   ]
  },
  {
   "cell_type": "markdown",
   "metadata": {},
   "source": [
    "#### Indexing, Subsetting & Slicing Lists"
   ]
  },
  {
   "cell_type": "code",
   "execution_count": 6,
   "metadata": {},
   "outputs": [],
   "source": [
    "# Defining a list\n",
    "x = [1,2,3,4,5]"
   ]
  },
  {
   "cell_type": "code",
   "execution_count": 7,
   "metadata": {},
   "outputs": [
    {
     "data": {
      "text/plain": [
       "(1, 4)"
      ]
     },
     "execution_count": 7,
     "metadata": {},
     "output_type": "execute_result"
    }
   ],
   "source": [
    "# Indexing list elements\n",
    "x[0], x[-2]"
   ]
  },
  {
   "cell_type": "code",
   "execution_count": 8,
   "metadata": {},
   "outputs": [
    {
     "data": {
      "text/plain": [
       "([2, 3, 4], [1, 2, 3, 4], [1, 3, 5])"
      ]
     },
     "execution_count": 8,
     "metadata": {},
     "output_type": "execute_result"
    }
   ],
   "source": [
    "# Slicing lists\n",
    "x[1:4], x[:-1], x[::2]"
   ]
  },
  {
   "cell_type": "markdown",
   "metadata": {},
   "source": [
    "#### Manipulating Lists"
   ]
  },
  {
   "cell_type": "code",
   "execution_count": 9,
   "metadata": {},
   "outputs": [
    {
     "data": {
      "text/plain": [
       "[1, 2, 30, 4, 5]"
      ]
     },
     "execution_count": 9,
     "metadata": {},
     "output_type": "execute_result"
    }
   ],
   "source": [
    "# Modifing elements in the list\n",
    "x[2] = 30; x"
   ]
  },
  {
   "cell_type": "code",
   "execution_count": 10,
   "metadata": {},
   "outputs": [
    {
     "data": {
      "text/plain": [
       "True"
      ]
     },
     "execution_count": 10,
     "metadata": {},
     "output_type": "execute_result"
    }
   ],
   "source": [
    "# Searching for a specific element\n",
    "4 in x"
   ]
  },
  {
   "cell_type": "code",
   "execution_count": 11,
   "metadata": {},
   "outputs": [
    {
     "data": {
      "text/plain": [
       "[11, 7.0, None, True, 'A', []]"
      ]
     },
     "execution_count": 11,
     "metadata": {},
     "output_type": "execute_result"
    }
   ],
   "source": [
    "# Concatenate two lists\n",
    "[11, 7.0, None] + [True, 'A', []]"
   ]
  },
  {
   "cell_type": "code",
   "execution_count": 12,
   "metadata": {},
   "outputs": [
    {
     "data": {
      "text/plain": [
       "[1, 2, 3, 1, 2, 3, 1, 2, 3]"
      ]
     },
     "execution_count": 12,
     "metadata": {},
     "output_type": "execute_result"
    }
   ],
   "source": [
    "# Repeating lists\n",
    "[1,2,3] * 3"
   ]
  },
  {
   "cell_type": "markdown",
   "metadata": {},
   "source": [
    "#### List Iteration"
   ]
  },
  {
   "cell_type": "code",
   "execution_count": 13,
   "metadata": {},
   "outputs": [
    {
     "name": "stdout",
     "output_type": "stream",
     "text": [
      "1 2 30 4 5 "
     ]
    }
   ],
   "source": [
    "# Basic iterating over a list\n",
    "for i in x:\n",
    "    print(i, end = ' ')"
   ]
  },
  {
   "cell_type": "code",
   "execution_count": 14,
   "metadata": {},
   "outputs": [
    {
     "name": "stdout",
     "output_type": "stream",
     "text": [
      "1 2 30 4 5 "
     ]
    }
   ],
   "source": [
    "# You can also use what is known as \"list comprehension\" for iteration\n",
    "y = [print(i, end = ' ') for i in x]"
   ]
  },
  {
   "cell_type": "code",
   "execution_count": 15,
   "metadata": {},
   "outputs": [
    {
     "name": "stdout",
     "output_type": "stream",
     "text": [
      "1 2 30 4 5 "
     ]
    }
   ],
   "source": [
    "# Another style using range() function\n",
    "for i in range(len(x)):\n",
    "    print(x[i], end = ' ')"
   ]
  },
  {
   "cell_type": "markdown",
   "metadata": {},
   "source": [
    "#### List Methods"
   ]
  },
  {
   "cell_type": "markdown",
   "metadata": {},
   "source": [
    "| Method    \t| Description                                                                  \t|\n",
    "|-----------\t|------------------------------------------------------------------------------\t|\n",
    "| append()  \t| Adds an element at the end of the list                                       \t|\n",
    "| clear()   \t| Removes all the elements from the list                                       \t|\n",
    "| copy()    \t| Returns a copy of the list                                                   \t|\n",
    "| count()   \t| Returns the number of elements with the specified value                      \t|\n",
    "| extend()  \t| Add the elements of a list (or any iterable), to the end of the current list \t|\n",
    "| index()   \t| Returns the index of the first element with the specified value              \t|\n",
    "| insert()  \t| Adds an element at the specified position                                    \t|\n",
    "| pop()     \t| Removes the element at the specified position                                \t|\n",
    "| remove()  \t| Removes the item with the specified value                                    \t|\n",
    "| reverse() \t| Reverses the order of the list                                               \t|\n",
    "| sort()    \t| Sorts the list                                                               \t|"
   ]
  },
  {
   "cell_type": "code",
   "execution_count": 16,
   "metadata": {},
   "outputs": [
    {
     "data": {
      "text/plain": [
       "[1, 2, 30, 4, 5, 60]"
      ]
     },
     "execution_count": 16,
     "metadata": {},
     "output_type": "execute_result"
    }
   ],
   "source": [
    "# Append a value to the end\n",
    "x.append(60); x"
   ]
  },
  {
   "cell_type": "code",
   "execution_count": 17,
   "metadata": {},
   "outputs": [
    {
     "data": {
      "text/plain": [
       "[60, 5, 4, 30, 2, 1]"
      ]
     },
     "execution_count": 17,
     "metadata": {},
     "output_type": "execute_result"
    }
   ],
   "source": [
    "# Reverses the order of the list\n",
    "x.reverse(); x"
   ]
  },
  {
   "cell_type": "code",
   "execution_count": 18,
   "metadata": {},
   "outputs": [
    {
     "data": {
      "text/plain": [
       "[70, 60, 5, 4, 30, 2, 1]"
      ]
     },
     "execution_count": 18,
     "metadata": {},
     "output_type": "execute_result"
    }
   ],
   "source": [
    "# Adds an element at the specified position\n",
    "x.insert(0, 70); x"
   ]
  },
  {
   "cell_type": "code",
   "execution_count": 19,
   "metadata": {},
   "outputs": [
    {
     "data": {
      "text/plain": [
       "70"
      ]
     },
     "execution_count": 19,
     "metadata": {},
     "output_type": "execute_result"
    }
   ],
   "source": [
    "# Removes the element at the specified position\n",
    "x.pop(0)"
   ]
  },
  {
   "cell_type": "code",
   "execution_count": 20,
   "metadata": {},
   "outputs": [
    {
     "data": {
      "text/plain": [
       "(None, [60, 4, 30, 2, 1])"
      ]
     },
     "execution_count": 20,
     "metadata": {},
     "output_type": "execute_result"
    }
   ],
   "source": [
    "# Removes the item with the specified value\n",
    "x.remove(5), x"
   ]
  },
  {
   "cell_type": "code",
   "execution_count": 21,
   "metadata": {},
   "outputs": [
    {
     "name": "stdout",
     "output_type": "stream",
     "text": [
      "[1, 5, 7, 10, 13] \n",
      "\n",
      "[13, 10, 7, 5, 1]\n"
     ]
    }
   ],
   "source": [
    "# Sorting a list \n",
    "z = [10, 7, 13, 1, 5]\n",
    "z.sort(); print(z,'\\n')\n",
    "\n",
    "# Sort using sorted() function\n",
    "print(sorted(z, reverse=True))"
   ]
  },
  {
   "cell_type": "markdown",
   "metadata": {},
   "source": [
    "### Tuples"
   ]
  },
  {
   "cell_type": "markdown",
   "metadata": {},
   "source": [
    "#### Defining Tuples"
   ]
  },
  {
   "cell_type": "code",
   "execution_count": 22,
   "metadata": {},
   "outputs": [
    {
     "data": {
      "text/plain": [
       "(1, 2, 3, 4, 2, 8, 7)"
      ]
     },
     "execution_count": 22,
     "metadata": {},
     "output_type": "execute_result"
    }
   ],
   "source": [
    "# Define a tuple\n",
    "tup = (1,2,3,4,2,8,7); tup"
   ]
  },
  {
   "cell_type": "code",
   "execution_count": 23,
   "metadata": {},
   "outputs": [
    {
     "data": {
      "text/plain": [
       "(1, 2, 3, 4, 2, 8, 7)"
      ]
     },
     "execution_count": 23,
     "metadata": {},
     "output_type": "execute_result"
    }
   ],
   "source": [
    "# Another way without using ()\n",
    "tup = 1,2,3,4,2,8,7; tup"
   ]
  },
  {
   "cell_type": "code",
   "execution_count": 24,
   "metadata": {},
   "outputs": [
    {
     "data": {
      "text/plain": [
       "((1, 2, 3), ('a', None, 15.0, True))"
      ]
     },
     "execution_count": 24,
     "metadata": {},
     "output_type": "execute_result"
    }
   ],
   "source": [
    "nested_tup = ((1,2,3),('a', None, 15.0 ,True)); nested_tup"
   ]
  },
  {
   "cell_type": "code",
   "execution_count": 25,
   "metadata": {},
   "outputs": [
    {
     "name": "stdout",
     "output_type": "stream",
     "text": [
      "Type: <class 'tuple'>\n",
      "Length: 2\n",
      "Sum: 27\n"
     ]
    }
   ],
   "source": [
    "print(\"Type:\", type(nested_tup))\n",
    "print(\"Length:\", len(nested_tup))\n",
    "print(\"Sum:\", sum(tup))"
   ]
  },
  {
   "cell_type": "code",
   "execution_count": 26,
   "metadata": {},
   "outputs": [
    {
     "data": {
      "text/plain": [
       "(10, 20, 30, 40, 50)"
      ]
     },
     "execution_count": 26,
     "metadata": {},
     "output_type": "execute_result"
    }
   ],
   "source": [
    "# Define a tuple from a list using tuple() function\n",
    "y = tuple([10,20,30,40,50]); y"
   ]
  },
  {
   "cell_type": "markdown",
   "metadata": {},
   "source": [
    "#### Indexing, Subsetting & Slicing Tuples"
   ]
  },
  {
   "cell_type": "code",
   "execution_count": 27,
   "metadata": {},
   "outputs": [
    {
     "data": {
      "text/plain": [
       "(3, 7, (2, 3))"
      ]
     },
     "execution_count": 27,
     "metadata": {},
     "output_type": "execute_result"
    }
   ],
   "source": [
    "# Indexing & slicing a tuple\n",
    "tup[2], tup[-1], tup[1:3]"
   ]
  },
  {
   "cell_type": "markdown",
   "metadata": {},
   "source": [
    "#### Manipulating Tuples"
   ]
  },
  {
   "cell_type": "code",
   "execution_count": 28,
   "metadata": {},
   "outputs": [
    {
     "ename": "TypeError",
     "evalue": "'tuple' object does not support item assignment",
     "output_type": "error",
     "traceback": [
      "\u001b[1;31m---------------------------------------------------------------------------\u001b[0m",
      "\u001b[1;31mTypeError\u001b[0m                                 Traceback (most recent call last)",
      "\u001b[1;32m<ipython-input-28-c58066784a34>\u001b[0m in \u001b[0;36m<module>\u001b[1;34m\u001b[0m\n\u001b[0;32m      1\u001b[0m \u001b[1;31m# Tuples are immutable, you can't modify elements in the tuple\u001b[0m\u001b[1;33m\u001b[0m\u001b[1;33m\u001b[0m\u001b[1;33m\u001b[0m\u001b[0m\n\u001b[1;32m----> 2\u001b[1;33m \u001b[0mtup\u001b[0m\u001b[1;33m[\u001b[0m\u001b[1;36m2\u001b[0m\u001b[1;33m]\u001b[0m \u001b[1;33m=\u001b[0m \u001b[1;36m30\u001b[0m\u001b[1;33m;\u001b[0m \u001b[0mtup\u001b[0m\u001b[1;33m\u001b[0m\u001b[1;33m\u001b[0m\u001b[0m\n\u001b[0m",
      "\u001b[1;31mTypeError\u001b[0m: 'tuple' object does not support item assignment"
     ]
    }
   ],
   "source": [
    "# Tuples are immutable, you can't modify elements in the tuple\n",
    "tup[2] = 30; tup"
   ]
  },
  {
   "cell_type": "code",
   "execution_count": 29,
   "metadata": {},
   "outputs": [
    {
     "data": {
      "text/plain": [
       "(11, 7.0, None, True, 'A', ())"
      ]
     },
     "execution_count": 29,
     "metadata": {},
     "output_type": "execute_result"
    }
   ],
   "source": [
    "# Concatenate two tuples\n",
    "(11, 7.0, None) + (True, 'A', ())"
   ]
  },
  {
   "cell_type": "code",
   "execution_count": 30,
   "metadata": {},
   "outputs": [
    {
     "data": {
      "text/plain": [
       "(1, 2, 3, 1, 2, 3)"
      ]
     },
     "execution_count": 30,
     "metadata": {},
     "output_type": "execute_result"
    }
   ],
   "source": [
    "# Repeating tuples\n",
    "(1, 2, 3) * 2"
   ]
  },
  {
   "cell_type": "code",
   "execution_count": 31,
   "metadata": {},
   "outputs": [
    {
     "data": {
      "text/plain": [
       "True"
      ]
     },
     "execution_count": 31,
     "metadata": {},
     "output_type": "execute_result"
    }
   ],
   "source": [
    "# Searching for a specific element\n",
    "40 not in tup"
   ]
  },
  {
   "cell_type": "code",
   "execution_count": 32,
   "metadata": {},
   "outputs": [
    {
     "data": {
      "text/plain": [
       "(1, 2, 3)"
      ]
     },
     "execution_count": 32,
     "metadata": {},
     "output_type": "execute_result"
    }
   ],
   "source": [
    "# Unpacking a tuple\n",
    "my_tup = 1,2,3\n",
    "a,b,c = my_tup; a,b,c"
   ]
  },
  {
   "cell_type": "markdown",
   "metadata": {},
   "source": [
    "#### Tuple Methods"
   ]
  },
  {
   "cell_type": "markdown",
   "metadata": {},
   "source": [
    "| Method  \t| Description                                                                             \t|\n",
    "|---------\t|-----------------------------------------------------------------------------------------\t|\n",
    "| count() \t| Returns the number of times a specified value occurs in a tuple                         \t|\n",
    "| index() \t| Searches the tuple for a specified value and returns the position of where it was found \t|"
   ]
  },
  {
   "cell_type": "code",
   "execution_count": 33,
   "metadata": {},
   "outputs": [
    {
     "data": {
      "text/plain": [
       "2"
      ]
     },
     "execution_count": 33,
     "metadata": {},
     "output_type": "execute_result"
    }
   ],
   "source": [
    "# Returns the number of times a specified value occurs in a tuple\n",
    "tup = (1,2,3,4,2,8,7)\n",
    "tup.count(2)"
   ]
  },
  {
   "cell_type": "code",
   "execution_count": 34,
   "metadata": {},
   "outputs": [
    {
     "name": "stdout",
     "output_type": "stream",
     "text": [
      "Before Zipping: ['a', 'b', 'c'] [1, 2, 3]\n",
      "Zipping: [('a', 1), ('b', 2), ('c', 3)]\n",
      "Un-Zipping: ('a', 'b', 'c') (1, 2, 3)\n"
     ]
    }
   ],
   "source": [
    "# Zipping & unzipping a tuple using zip() function\n",
    "list_letters = ['a', 'b', 'c']\n",
    "list_numbers = [1,2,3]\n",
    "print(\"Before Zipping:\", list_letters, list_numbers)\n",
    "\n",
    "# Zipping\n",
    "zipped = [pair for pair in zip(list_letters, list_numbers)]\n",
    "print(\"Zipping:\", zipped)\n",
    "\n",
    "# Unzipping\n",
    "letters, numbers = zip(*zipped)\n",
    "print(\"Un-Zipping:\", letters, numbers)"
   ]
  },
  {
   "cell_type": "markdown",
   "metadata": {},
   "source": [
    "### Sets"
   ]
  },
  {
   "cell_type": "markdown",
   "metadata": {},
   "source": [
    "#### Defining Sets"
   ]
  },
  {
   "cell_type": "code",
   "execution_count": 35,
   "metadata": {},
   "outputs": [
    {
     "data": {
      "text/plain": [
       "{1, 2, 3, 4, 5, 8}"
      ]
     },
     "execution_count": 35,
     "metadata": {},
     "output_type": "execute_result"
    }
   ],
   "source": [
    "# Defining a set\n",
    "set01 = {1,2,3,2,4,5,2,1,8}; set01 # Ordered & Unique"
   ]
  },
  {
   "cell_type": "code",
   "execution_count": 36,
   "metadata": {},
   "outputs": [
    {
     "data": {
      "text/plain": [
       "{1, 3.2, False, None, 'a'}"
      ]
     },
     "execution_count": 36,
     "metadata": {},
     "output_type": "execute_result"
    }
   ],
   "source": [
    "# Using set() function to define a set\n",
    "set02 = set([1,None,'a',False, 3.2]); set02 # Ordered & Unique"
   ]
  },
  {
   "cell_type": "code",
   "execution_count": 37,
   "metadata": {},
   "outputs": [
    {
     "name": "stdout",
     "output_type": "stream",
     "text": [
      "Type: <class 'set'>\n",
      "Length: 5\n",
      "Sum: 23\n"
     ]
    }
   ],
   "source": [
    "print(\"Type:\", type(set01))\n",
    "print(\"Length:\", len(set02))\n",
    "print(\"Sum:\", sum(set01))"
   ]
  },
  {
   "cell_type": "markdown",
   "metadata": {},
   "source": [
    "#### Indexing, Subsetting & Slicing Sets"
   ]
  },
  {
   "cell_type": "code",
   "execution_count": 38,
   "metadata": {},
   "outputs": [
    {
     "ename": "TypeError",
     "evalue": "'set' object is not subscriptable",
     "output_type": "error",
     "traceback": [
      "\u001b[1;31m---------------------------------------------------------------------------\u001b[0m",
      "\u001b[1;31mTypeError\u001b[0m                                 Traceback (most recent call last)",
      "\u001b[1;32m<ipython-input-38-49eade98defd>\u001b[0m in \u001b[0;36m<module>\u001b[1;34m\u001b[0m\n\u001b[0;32m      1\u001b[0m \u001b[1;31m# Indexing & slicing a tuple is impossible\u001b[0m\u001b[1;33m\u001b[0m\u001b[1;33m\u001b[0m\u001b[1;33m\u001b[0m\u001b[0m\n\u001b[1;32m----> 2\u001b[1;33m \u001b[0mset01\u001b[0m\u001b[1;33m[\u001b[0m\u001b[1;36m2\u001b[0m\u001b[1;33m]\u001b[0m\u001b[1;33m\u001b[0m\u001b[1;33m\u001b[0m\u001b[0m\n\u001b[0m",
      "\u001b[1;31mTypeError\u001b[0m: 'set' object is not subscriptable"
     ]
    }
   ],
   "source": [
    "# Indexing & slicing a tuple is impossible\n",
    "set01[2]"
   ]
  },
  {
   "cell_type": "markdown",
   "metadata": {},
   "source": [
    "#### Manipulating Sets"
   ]
  },
  {
   "cell_type": "code",
   "execution_count": 39,
   "metadata": {},
   "outputs": [
    {
     "ename": "TypeError",
     "evalue": "'set' object does not support item assignment",
     "output_type": "error",
     "traceback": [
      "\u001b[1;31m---------------------------------------------------------------------------\u001b[0m",
      "\u001b[1;31mTypeError\u001b[0m                                 Traceback (most recent call last)",
      "\u001b[1;32m<ipython-input-39-61cafd6838b7>\u001b[0m in \u001b[0;36m<module>\u001b[1;34m\u001b[0m\n\u001b[0;32m      1\u001b[0m \u001b[1;31m# This also is not possible in sets\u001b[0m\u001b[1;33m\u001b[0m\u001b[1;33m\u001b[0m\u001b[1;33m\u001b[0m\u001b[0m\n\u001b[1;32m----> 2\u001b[1;33m \u001b[0mset02\u001b[0m\u001b[1;33m[\u001b[0m\u001b[1;36m1\u001b[0m\u001b[1;33m]\u001b[0m \u001b[1;33m=\u001b[0m \u001b[1;36m3\u001b[0m\u001b[1;33m\u001b[0m\u001b[1;33m\u001b[0m\u001b[0m\n\u001b[0m",
      "\u001b[1;31mTypeError\u001b[0m: 'set' object does not support item assignment"
     ]
    }
   ],
   "source": [
    "# This also is not possible in sets\n",
    "set02[1] = 3"
   ]
  },
  {
   "cell_type": "markdown",
   "metadata": {},
   "source": [
    "#### Set Methods"
   ]
  },
  {
   "cell_type": "markdown",
   "metadata": {},
   "source": [
    "| Method                        \t| Description                                                                    \t|\n",
    "|-------------------------------\t|--------------------------------------------------------------------------------\t|\n",
    "| add()                         \t| Adds an element to the set                                                     \t|\n",
    "| clear()                       \t| Removes all the elements from the set                                          \t|\n",
    "| copy()                        \t| Returns a copy of the set                                                      \t|\n",
    "| difference()                  \t| Returns a set containing the difference between two or more sets               \t|\n",
    "| difference_update()           \t| Removes the items in this set that are also included in another, specified set \t|\n",
    "| discard()                     \t| Remove the specified item                                                      \t|\n",
    "| intersection()                \t| Returns a set, that is the intersection of two other sets                      \t|\n",
    "| intersection_update()         \t| Removes the items in this set that are not present in other, specified set(s)  \t|\n",
    "| isdisjoint()                  \t| Returns whether two sets have a intersection or not                            \t|\n",
    "| issubset()                    \t| Returns whether another set contains this set or not                           \t|\n",
    "| issuperset()                  \t| Returns whether this set contains another set or not                           \t|\n",
    "| pop()                         \t| Removes an element from the set                                                \t|\n",
    "| remove()                      \t| Removes the specified element                                                  \t|\n",
    "| symmetric_difference()        \t| Returns a set with the symmetric differences of two sets                       \t|\n",
    "| symmetric_difference_update() \t| inserts the symmetric differences from this set and another                    \t|\n",
    "| union()                       \t| Return a set containing the union of sets                                      \t|\n",
    "| update()                      \t| Update the set with the union of this set and others                           \t|"
   ]
  },
  {
   "cell_type": "code",
   "execution_count": 40,
   "metadata": {},
   "outputs": [
    {
     "data": {
      "text/plain": [
       "{1, 2, 3, 4, 5, 8, 60}"
      ]
     },
     "execution_count": 40,
     "metadata": {},
     "output_type": "execute_result"
    }
   ],
   "source": [
    "# The right way to add an element to a set using add() method\n",
    "set01.add(60); set01"
   ]
  },
  {
   "cell_type": "code",
   "execution_count": 41,
   "metadata": {},
   "outputs": [
    {
     "data": {
      "text/plain": [
       "{1, 2, 3, 4, 5, 8, 60, 70, 80, 90}"
      ]
     },
     "execution_count": 41,
     "metadata": {},
     "output_type": "execute_result"
    }
   ],
   "source": [
    "# You can also add multiple elements using update() method\n",
    "set01.update((70,80,90)); set01"
   ]
  },
  {
   "cell_type": "code",
   "execution_count": 42,
   "metadata": {},
   "outputs": [
    {
     "data": {
      "text/plain": [
       "{1, 2, 3, 4, 5, 8, 60, 70, 80}"
      ]
     },
     "execution_count": 42,
     "metadata": {},
     "output_type": "execute_result"
    }
   ],
   "source": [
    "# To delete an element use remove() method\n",
    "set01.remove(90); set01"
   ]
  },
  {
   "cell_type": "code",
   "execution_count": 43,
   "metadata": {},
   "outputs": [],
   "source": [
    "primes = {2, 3, 5, 7}\n",
    "odds = {1, 3, 5, 7, 9}"
   ]
  },
  {
   "cell_type": "code",
   "execution_count": 44,
   "metadata": {},
   "outputs": [
    {
     "data": {
      "text/plain": [
       "{1, 2, 3, 5, 7, 9}"
      ]
     },
     "execution_count": 44,
     "metadata": {},
     "output_type": "execute_result"
    }
   ],
   "source": [
    "# union: items appearing in either\n",
    "primes | odds # with an operator\n",
    "primes.union(odds) # equivalently with a method"
   ]
  },
  {
   "cell_type": "code",
   "execution_count": 45,
   "metadata": {},
   "outputs": [
    {
     "data": {
      "text/plain": [
       "{3, 5, 7}"
      ]
     },
     "execution_count": 45,
     "metadata": {},
     "output_type": "execute_result"
    }
   ],
   "source": [
    "# intersection: items appearing in both\n",
    "primes & odds # with an operator\n",
    "primes.intersection(odds) # equivalently with a method"
   ]
  },
  {
   "cell_type": "code",
   "execution_count": 46,
   "metadata": {},
   "outputs": [
    {
     "data": {
      "text/plain": [
       "{2}"
      ]
     },
     "execution_count": 46,
     "metadata": {},
     "output_type": "execute_result"
    }
   ],
   "source": [
    "# difference: items in primes but not in odds\n",
    "primes - odds # with an operator\n",
    "primes.difference(odds) # equivalently with a method"
   ]
  },
  {
   "cell_type": "code",
   "execution_count": 47,
   "metadata": {},
   "outputs": [
    {
     "data": {
      "text/plain": [
       "{1, 2, 9}"
      ]
     },
     "execution_count": 47,
     "metadata": {},
     "output_type": "execute_result"
    }
   ],
   "source": [
    "# symmetric difference: items appearing in only one set\n",
    "primes ^ odds # with an operator\n",
    "primes.symmetric_difference(odds) # equivalently with a method"
   ]
  },
  {
   "cell_type": "markdown",
   "metadata": {},
   "source": [
    "### Dictionaries"
   ]
  },
  {
   "cell_type": "markdown",
   "metadata": {},
   "source": [
    "#### Defining Dictionary"
   ]
  },
  {
   "cell_type": "code",
   "execution_count": 48,
   "metadata": {},
   "outputs": [
    {
     "data": {
      "text/plain": [
       "{'one': 1, 'two': 2, 'three': 3}"
      ]
     },
     "execution_count": 48,
     "metadata": {},
     "output_type": "execute_result"
    }
   ],
   "source": [
    "# The easiest way to define a dictionary with a key-value pairs\n",
    "numbers = {'one':1, 'two':2, 'three':3}; numbers"
   ]
  },
  {
   "cell_type": "code",
   "execution_count": 49,
   "metadata": {},
   "outputs": [
    {
     "name": "stdout",
     "output_type": "stream",
     "text": [
      "Type: <class 'dict'>\n",
      "Length: 3\n"
     ]
    }
   ],
   "source": [
    "print(\"Type:\", type(numbers))\n",
    "print(\"Length:\", len(numbers))"
   ]
  },
  {
   "cell_type": "markdown",
   "metadata": {},
   "source": [
    "#### Indexing Dictionary"
   ]
  },
  {
   "cell_type": "code",
   "execution_count": 50,
   "metadata": {},
   "outputs": [
    {
     "data": {
      "text/plain": [
       "1"
      ]
     },
     "execution_count": 50,
     "metadata": {},
     "output_type": "execute_result"
    }
   ],
   "source": [
    "# Indexing a dict element\n",
    "numbers['one']"
   ]
  },
  {
   "cell_type": "markdown",
   "metadata": {},
   "source": [
    "#### Manipulating Dictionaries"
   ]
  },
  {
   "cell_type": "code",
   "execution_count": 51,
   "metadata": {},
   "outputs": [
    {
     "data": {
      "text/plain": [
       "{'one': 1, 'two': 2, 'three': 3, 'four': 4}"
      ]
     },
     "execution_count": 51,
     "metadata": {},
     "output_type": "execute_result"
    }
   ],
   "source": [
    "# Adding a new element to the dict\n",
    "numbers['four'] = 4; numbers"
   ]
  },
  {
   "cell_type": "code",
   "execution_count": 52,
   "metadata": {},
   "outputs": [
    {
     "data": {
      "text/plain": [
       "{'one': 1.0, 'two': 2, 'three': 3, 'four': 4}"
      ]
     },
     "execution_count": 52,
     "metadata": {},
     "output_type": "execute_result"
    }
   ],
   "source": [
    "# Editing an existing element\n",
    "numbers['one'] = 1.0; numbers"
   ]
  },
  {
   "cell_type": "code",
   "execution_count": 53,
   "metadata": {
    "scrolled": true
   },
   "outputs": [
    {
     "data": {
      "text/plain": [
       "{'two': 2, 'three': 3, 'four': 4}"
      ]
     },
     "execution_count": 53,
     "metadata": {},
     "output_type": "execute_result"
    }
   ],
   "source": [
    "# Removing an element\n",
    "del numbers['one']; numbers"
   ]
  },
  {
   "cell_type": "markdown",
   "metadata": {},
   "source": [
    "#### Dictionary Methods"
   ]
  },
  {
   "cell_type": "markdown",
   "metadata": {},
   "source": [
    "| Method       \t| Description                                                                                                 \t|\n",
    "|--------------\t|-------------------------------------------------------------------------------------------------------------\t|\n",
    "| clear()      \t| Removes all the elements from the dictionary                                                                \t|\n",
    "| copy()       \t| Returns a copy of the dictionary                                                                            \t|\n",
    "| fromkeys()   \t| Returns a dictionary with the specified keys and value                                                      \t|\n",
    "| get()        \t| Returns the value of the specified key                                                                      \t|\n",
    "| items()      \t| Returns a list containing a tuple for each key value pair                                                   \t|\n",
    "| keys()       \t| Returns a list containing the dictionary's keys                                                             \t|\n",
    "| pop()        \t| Removes the element with the specified key                                                                  \t|\n",
    "| popitem()    \t| Removes the last inserted key-value pair                                                                    \t|\n",
    "| setdefault() \t| Returns the value of the specified key. If the key does not exist: insert the key, with the specified value \t|\n",
    "| update()     \t| Updates the dictionary with the specified key-value pairs                                                   \t|\n",
    "| values()     \t| Returns a list of all the values in the dictionary                                                          \t|"
   ]
  },
  {
   "cell_type": "code",
   "execution_count": 54,
   "metadata": {},
   "outputs": [
    {
     "name": "stdout",
     "output_type": "stream",
     "text": [
      "Keys: dict_keys(['two', 'three', 'four'])\n",
      "Values: dict_values([2, 3, 4])\n",
      "Elements: dict_items([('two', 2), ('three', 3), ('four', 4)])\n"
     ]
    }
   ],
   "source": [
    "# Inspecting dict\n",
    "print(\"Keys:\", numbers.keys())\n",
    "print(\"Values:\", numbers.values())\n",
    "print(\"Elements:\", numbers.items())"
   ]
  },
  {
   "cell_type": "code",
   "execution_count": 55,
   "metadata": {},
   "outputs": [
    {
     "data": {
      "text/plain": [
       "{'two': 2, 'three': 3, 'four': 4}"
      ]
     },
     "execution_count": 55,
     "metadata": {},
     "output_type": "execute_result"
    }
   ],
   "source": [
    "# Another way to access a specific element\n",
    "numbers.get('two'); numbers"
   ]
  },
  {
   "cell_type": "code",
   "execution_count": 56,
   "metadata": {},
   "outputs": [
    {
     "data": {
      "text/plain": [
       "{'two': 2, 'three': 3, 'four': 4, 'five': 5}"
      ]
     },
     "execution_count": 56,
     "metadata": {},
     "output_type": "execute_result"
    }
   ],
   "source": [
    "# Another way to add a new element to the dict\n",
    "numbers.update({\"five\": 5}); numbers"
   ]
  },
  {
   "cell_type": "code",
   "execution_count": 57,
   "metadata": {
    "scrolled": true
   },
   "outputs": [
    {
     "data": {
      "text/plain": [
       "{'two': 2, 'three': 3, 'four': 4}"
      ]
     },
     "execution_count": 57,
     "metadata": {},
     "output_type": "execute_result"
    }
   ],
   "source": [
    "# Also, another way to remove an element of the dict\n",
    "numbers.pop('five'); numbers"
   ]
  },
  {
   "cell_type": "markdown",
   "metadata": {},
   "source": [
    "====="
   ]
  },
  {
   "cell_type": "markdown",
   "metadata": {},
   "source": [
    "## Functions"
   ]
  },
  {
   "cell_type": "markdown",
   "metadata": {},
   "source": [
    "- Built-in Functions\n",
    "- Modules & Packages\n",
    "- User-defined Function"
   ]
  },
  {
   "cell_type": "markdown",
   "metadata": {},
   "source": [
    "#### Python Functions"
   ]
  },
  {
   "cell_type": "code",
   "execution_count": 58,
   "metadata": {},
   "outputs": [
    {
     "name": "stdout",
     "output_type": "stream",
     "text": [
      "abc\n"
     ]
    }
   ],
   "source": [
    "# Built-in function\n",
    "print('abc')"
   ]
  },
  {
   "cell_type": "code",
   "execution_count": 59,
   "metadata": {},
   "outputs": [
    {
     "name": "stdout",
     "output_type": "stream",
     "text": [
      "4.0\n"
     ]
    }
   ],
   "source": [
    "# Modules\n",
    "from math import sqrt\n",
    "x = 16\n",
    "print(sqrt(x))"
   ]
  },
  {
   "cell_type": "code",
   "execution_count": 60,
   "metadata": {},
   "outputs": [
    {
     "name": "stdout",
     "output_type": "stream",
     "text": [
      "8\n"
     ]
    }
   ],
   "source": [
    "# User-defined functions\n",
    "def double(x):\n",
    "    return x * 2\n",
    "\n",
    "print(double(4)) # calling your function"
   ]
  },
  {
   "cell_type": "markdown",
   "metadata": {},
   "source": [
    "#### Returing Multiple Values"
   ]
  },
  {
   "cell_type": "code",
   "execution_count": 61,
   "metadata": {},
   "outputs": [
    {
     "name": "stdout",
     "output_type": "stream",
     "text": [
      "5 6 7\n"
     ]
    }
   ],
   "source": [
    "def f():\n",
    "    a, b, c = 5, 6, 7\n",
    "    return a, b, c # return multiple values as a tuple\n",
    "\n",
    "x, y, z = f()\n",
    "print(x, y, z)"
   ]
  },
  {
   "cell_type": "markdown",
   "metadata": {},
   "source": [
    "#### Default Argument Values"
   ]
  },
  {
   "cell_type": "code",
   "execution_count": 62,
   "metadata": {},
   "outputs": [
    {
     "name": "stdout",
     "output_type": "stream",
     "text": [
      "[1, 1, 2, 3, 5, 8, 13, 21, 34, 55]\n",
      "[2, 2, 4, 6, 10, 16, 26, 42, 68, 110]\n",
      "[3, 4, 7, 11, 18, 29, 47, 76, 123, 199]\n"
     ]
    }
   ],
   "source": [
    "def fibonacci(n, a=0, b=1): # Default args\n",
    "    l = []\n",
    "    while len(l) < n:\n",
    "        a, b = b, a + b\n",
    "        l.append(a)\n",
    "    return l\n",
    "\n",
    "print(fibonacci(10)) # call the function with the non-default argument\n",
    "print(fibonacci(10, 0, 2)) # we can use the function to define other arguments\n",
    "print(fibonacci(10, b=3, a=1)) # The values can also be specified by name"
   ]
  },
  {
   "cell_type": "markdown",
   "metadata": {},
   "source": [
    "#### \\*args and **kwargs: Flexible Arguments"
   ]
  },
  {
   "cell_type": "code",
   "execution_count": 63,
   "metadata": {},
   "outputs": [
    {
     "name": "stdout",
     "output_type": "stream",
     "text": [
      "Sum: 35\n",
      "None\n",
      "Sum: 8\n",
      "Sum: 22\n",
      "Sum: 17\n"
     ]
    }
   ],
   "source": [
    "# We dealt with a fixed number of arguments\n",
    "def adder(x,y,z):\n",
    "    print(\"Sum:\",x+y+z)\n",
    "\n",
    "print(adder(10,12,13))\n",
    "\n",
    "# If we do not know how many arguments to pass, we use *args style\n",
    "def adder_args(*num):\n",
    "    sum = 0\n",
    "    for n in num:\n",
    "        sum = sum + n\n",
    "    print(\"Sum:\",sum)\n",
    "\n",
    "adder_args(3,5)\n",
    "adder_args(4,5,6,7)\n",
    "adder_args(1,2,3,5,6)"
   ]
  },
  {
   "cell_type": "code",
   "execution_count": 64,
   "metadata": {},
   "outputs": [
    {
     "name": "stdout",
     "output_type": "stream",
     "text": [
      "args = (1, 2, 3)\n",
      "kwargs =  {'pi': 3.14}\n"
     ]
    }
   ],
   "source": [
    "def catch_all(*args, **kwargs):\n",
    "    print(\"args =\", args)\n",
    "    print(\"kwargs = \", kwargs)\n",
    "\n",
    "inputs = (1, 2, 3)\n",
    "keywords = {'pi': 3.14}\n",
    "\n",
    "catch_all(*inputs, **keywords)"
   ]
  },
  {
   "cell_type": "markdown",
   "metadata": {},
   "source": [
    "#### Namespace, Scope, and Local Functions"
   ]
  },
  {
   "cell_type": "code",
   "execution_count": 65,
   "metadata": {},
   "outputs": [
    {
     "name": "stdout",
     "output_type": "stream",
     "text": [
      "[0, 1, 2, 3, 4]\n",
      "[0, 1, 2, 3, 4]\n",
      "[0, 1, 2, 3, 4]\n"
     ]
    }
   ],
   "source": [
    "# Here we define a variable locally\n",
    "def func_local():\n",
    "    a = []\n",
    "    for i in range(5):\n",
    "        a.append(i)\n",
    "    return a\n",
    "\n",
    "# Defining the variable out of the scope of the function\n",
    "a = []\n",
    "def func_scope():\n",
    "    for i in range(5):\n",
    "        a.append(i)\n",
    "    return a\n",
    "\n",
    "# using global keyword to make sure the accessibility of the variable\n",
    "def func_global():\n",
    "    global a # Using global\n",
    "    a = []\n",
    "    for i in range(5):\n",
    "        a.append(i)\n",
    "    return a\n",
    "        \n",
    "print(func_local())\n",
    "print(func_scope())\n",
    "print(func_global())"
   ]
  },
  {
   "cell_type": "markdown",
   "metadata": {},
   "source": [
    "#### Anonymous (lambda) Functions"
   ]
  },
  {
   "cell_type": "code",
   "execution_count": 66,
   "metadata": {},
   "outputs": [
    {
     "name": "stdout",
     "output_type": "stream",
     "text": [
      "16\n",
      "25\n"
     ]
    }
   ],
   "source": [
    "# defining short, one-off function in a single line\n",
    "power_lambda = lambda x: x ** 2\n",
    "print(power_lambda(4))\n",
    "\n",
    "# This is equivilant to the following\n",
    "def power_def(x):\n",
    "    return x ** 2\n",
    "print(power_def(5))"
   ]
  },
  {
   "cell_type": "markdown",
   "metadata": {},
   "source": [
    "====="
   ]
  },
  {
   "cell_type": "markdown",
   "metadata": {},
   "source": [
    "## File I/O"
   ]
  },
  {
   "cell_type": "code",
   "execution_count": 67,
   "metadata": {},
   "outputs": [
    {
     "data": {
      "text/plain": [
       "_io.TextIOWrapper"
      ]
     },
     "execution_count": 67,
     "metadata": {},
     "output_type": "execute_result"
    }
   ],
   "source": [
    "# Create a file for writing\n",
    "f = open('test.txt', 'w')\n",
    "type(f)"
   ]
  },
  {
   "cell_type": "code",
   "execution_count": 68,
   "metadata": {},
   "outputs": [],
   "source": [
    "# Editing the file\n",
    "f.write('First Name, Last Name, Age, Grade\\n')\n",
    "f.write('Ahmed, Ali, 33.5, 99\\n')\n",
    "f.write('Mustafa, Sayed, 32, 87\\n')\n",
    "\n",
    "# Closing the file\n",
    "f.close()"
   ]
  },
  {
   "cell_type": "code",
   "execution_count": 69,
   "metadata": {},
   "outputs": [
    {
     "data": {
      "text/plain": [
       "'First Name, Last Name, Age, Grade\\nAhmed, Ali, 33.5, 99\\nMustafa, Sayed, 32, 87\\n'"
      ]
     },
     "execution_count": 69,
     "metadata": {},
     "output_type": "execute_result"
    }
   ],
   "source": [
    "f = open('test.txt', 'r')\n",
    "f.read()"
   ]
  },
  {
   "cell_type": "markdown",
   "metadata": {},
   "source": [
    "====="
   ]
  },
  {
   "cell_type": "markdown",
   "metadata": {},
   "source": [
    "# Python for Data Science Practical Exercises"
   ]
  },
  {
   "cell_type": "markdown",
   "metadata": {},
   "source": [
    "## Native Data Types"
   ]
  },
  {
   "cell_type": "markdown",
   "metadata": {},
   "source": [
    "### Python Program to Access The Last Character of a String Using len() Function"
   ]
  },
  {
   "cell_type": "code",
   "execution_count": 71,
   "metadata": {
    "scrolled": true
   },
   "outputs": [
    {
     "name": "stdout",
     "output_type": "stream",
     "text": [
      "Enter a string: Mustafa\n",
      "The last character is: a\n"
     ]
    }
   ],
   "source": [
    "# Getting the string\n",
    "my_str = input(\"Enter a string: \")\n",
    "\n",
    "# Finding the index od the last character\n",
    "last_char = len(my_str) - 1\n",
    "\n",
    "print(\"The last character is:\", my_str[last_char])"
   ]
  },
  {
   "cell_type": "markdown",
   "metadata": {},
   "source": [
    "### Python Program That Reads The Date in The Format (dd/mm/yyyy) and Replaces The ‘/’ with a ‘-’ and Displays The Date in (dd-mm-yyyy) Format."
   ]
  },
  {
   "cell_type": "code",
   "execution_count": 72,
   "metadata": {},
   "outputs": [
    {
     "name": "stdout",
     "output_type": "stream",
     "text": [
      "10-12-2020\n",
      "10-12-2020\n"
     ]
    }
   ],
   "source": [
    "# Just use the replace() function\n",
    "print('10/12/2020'.replace('/','-'))\n",
    "\n",
    "# Another solution\n",
    "print('-'.join('10/12/2020'.split('/')))"
   ]
  },
  {
   "cell_type": "markdown",
   "metadata": {},
   "source": [
    "### Python Program to Take a String and Display The Letters Backward"
   ]
  },
  {
   "cell_type": "code",
   "execution_count": 73,
   "metadata": {},
   "outputs": [
    {
     "name": "stdout",
     "output_type": "stream",
     "text": [
      "a f a t s u M "
     ]
    }
   ],
   "source": [
    "# Using loops\n",
    "def func_str(my_str):\n",
    "    i = len(my_str) - 1\n",
    "    while i >= 0:\n",
    "        letter = my_str[i]\n",
    "        print(letter, end=' ')\n",
    "        i -=1\n",
    "\n",
    "func_str('Mustafa')"
   ]
  },
  {
   "cell_type": "code",
   "execution_count": 74,
   "metadata": {},
   "outputs": [
    {
     "name": "stdout",
     "output_type": "stream",
     "text": [
      "a f a t s u M "
     ]
    }
   ],
   "source": [
    "# Another solution using a list\n",
    "def func_list(my_str):\n",
    "    a = list(my_str[::-1])\n",
    "    for i in a:\n",
    "        print(i, end=' ')\n",
    "\n",
    "func_list('Mustafa')"
   ]
  },
  {
   "cell_type": "markdown",
   "metadata": {},
   "source": [
    "### Python Program That Creates a List of 10 Random Integers. Then Create Two Lists That have All Odd and Even Values of The List"
   ]
  },
  {
   "cell_type": "code",
   "execution_count": 75,
   "metadata": {
    "scrolled": true
   },
   "outputs": [
    {
     "name": "stdout",
     "output_type": "stream",
     "text": [
      "Random List:  [1, 0, 4, 6, 9, 3, 1, 4, 5, 8]\n",
      "Even List:  [0, 4, 6, 4, 8]\n",
      "Odd List:  [1, 9, 3, 1, 5]\n"
     ]
    }
   ],
   "source": [
    "# importing the random module to use randint() method\n",
    "import random\n",
    "\n",
    "rand_list = []\n",
    "odd_list = []\n",
    "even_list = []\n",
    "\n",
    "# Generating random list\n",
    "for i in range(0,10):\n",
    "    rand_list.append(random.randint(0,10))\n",
    "\n",
    "# Checking for the even and odd values in the random list\n",
    "for i in rand_list:\n",
    "    if i % 2 == 0:\n",
    "        even_list.append(i)\n",
    "    else:\n",
    "        odd_list.append(i)\n",
    "\n",
    "print('Random List: ', rand_list)\n",
    "print('Even List: ', even_list)\n",
    "print('Odd List: ', odd_list)"
   ]
  },
  {
   "cell_type": "markdown",
   "metadata": {},
   "source": [
    "====="
   ]
  },
  {
   "cell_type": "markdown",
   "metadata": {},
   "source": [
    "## Functions"
   ]
  },
  {
   "cell_type": "markdown",
   "metadata": {},
   "source": [
    "### Python Program to Find the Factors of a Number Using Functions"
   ]
  },
  {
   "cell_type": "code",
   "execution_count": 76,
   "metadata": {},
   "outputs": [
    {
     "name": "stdout",
     "output_type": "stream",
     "text": [
      "Enter a number to find its factors: 24\n",
      "The factors of 24 are:\n",
      "1 2 3 4 6 8 12 24 "
     ]
    }
   ],
   "source": [
    "# This function computes the factor of the argument passed\n",
    "def facts(x):\n",
    "    print(\"The factors of\",x,\"are:\")\n",
    "    for i in range(1, x + 1):\n",
    "        if x % i == 0:\n",
    "            print(i, end=' ')\n",
    "\n",
    "num = int(input(\"Enter a number to find its factors: \"))\n",
    "\n",
    "facts(num)"
   ]
  },
  {
   "cell_type": "markdown",
   "metadata": {},
   "source": [
    "### Python Program to Find a List of Numbers Divisible by Another Number Using Anonymous Functions"
   ]
  },
  {
   "cell_type": "code",
   "execution_count": 77,
   "metadata": {},
   "outputs": [
    {
     "name": "stdout",
     "output_type": "stream",
     "text": [
      "Numbers divisible by 13 are [65, 39, 221]\n"
     ]
    }
   ],
   "source": [
    "# Take a list of numbers\n",
    "my_list = [12, 65, 54, 39, 102, 339, 221,]\n",
    "\n",
    "# use anonymous function to filter\n",
    "result = list(filter(lambda x: (x % 13 == 0), my_list))\n",
    "\n",
    "# display the result\n",
    "print(\"Numbers divisible by 13 are\",result)"
   ]
  },
  {
   "cell_type": "code",
   "execution_count": 78,
   "metadata": {},
   "outputs": [
    {
     "name": "stdout",
     "output_type": "stream",
     "text": [
      "Enter number of elements of the list: 17\n",
      "Enter the numbers in the list: 3\n",
      "Enter the number to divide by: 5\n",
      "Numbers divisible by 5 are []\n"
     ]
    }
   ],
   "source": [
    "# Another solution getting inputs from the user\n",
    "\n",
    "# number of elements \n",
    "n = int(input(\"Enter number of elements of the list: \")) \n",
    "\n",
    "# Below line read inputs from user using map() function \n",
    "my_list = list(map(int,input(\"Enter the numbers in the list: \").strip().split()))[:n]\n",
    "\n",
    "num = int(input(\"Enter the number to divide by: \"))\n",
    "\n",
    "# use anonymous function to filter\n",
    "result = list(filter(lambda x: (x % num == 0), my_list))\n",
    "\n",
    "# display the result\n",
    "print(\"Numbers divisible by {} are {}\".format(num, result))"
   ]
  },
  {
   "cell_type": "markdown",
   "metadata": {},
   "source": [
    "### Python Program to Determine Whether a Year is a Leap Year or Not Using Functions"
   ]
  },
  {
   "cell_type": "code",
   "execution_count": 79,
   "metadata": {},
   "outputs": [
    {
     "name": "stdout",
     "output_type": "stream",
     "text": [
      "Enter a year: 2021\n",
      "2021 is not a leap year\n"
     ]
    }
   ],
   "source": [
    "# To get year (integer input) from the user\n",
    "year = int(input(\"Enter a year: \"))\n",
    "\n",
    "if (year % 4) == 0:\n",
    "    if (year % 100) == 0:\n",
    "        if (year % 400) == 0:\n",
    "            print(\"{0} is a leap year\".format(year))\n",
    "        else:\n",
    "            print(\"{0} is not a leap year\".format(year))\n",
    "    else:\n",
    "        print(\"{0} is a leap year\".format(year))\n",
    "else:\n",
    "    print(\"{0} is not a leap year\".format(year))"
   ]
  },
  {
   "cell_type": "markdown",
   "metadata": {},
   "source": [
    "====="
   ]
  },
  {
   "cell_type": "markdown",
   "metadata": {},
   "source": [
    "## Python Libraries for Data Science"
   ]
  },
  {
   "cell_type": "markdown",
   "metadata": {},
   "source": [
    "- **Numpy** (Numerical Data Manipulation)\n",
    "- **Pandas** (Data PreProcessing & Analysis)\n",
    "- **Matplotlib** (Data Visualization)\n",
    "- **SeaBorn** (Statistical Data Visualization)\n",
    "- **SciPy** (Scientific Computing)\n",
    "- **Scikit-Learn** (Machine Learning)\n",
    "- **Statsmodels** (Statistical Learning)\n",
    "- **TensorFlow** (Deep Learning)"
   ]
  },
  {
   "cell_type": "code",
   "execution_count": 70,
   "metadata": {},
   "outputs": [
    {
     "data": {
      "text/plain": [
       "45"
      ]
     },
     "execution_count": 70,
     "metadata": {},
     "output_type": "execute_result"
    }
   ],
   "source": [
    "# A simple code to use NumPy module\n",
    "\n",
    "# Start with importing the module\n",
    "import numpy as np\n",
    "\n",
    "# Create a 1-D NumPy Array\n",
    "arr = np.array([11,7,24,3,45,12])\n",
    "\n",
    "# Use the method max() from NumPy module\n",
    "arr.max()"
   ]
  },
  {
   "cell_type": "markdown",
   "metadata": {},
   "source": [
    "====="
   ]
  },
  {
   "cell_type": "markdown",
   "metadata": {},
   "source": [
    "## Data Analysis in a Nutshell"
   ]
  },
  {
   "cell_type": "markdown",
   "metadata": {},
   "source": [
    "### Python program to:\n",
    "- Create and Display a DataFrame from a Dictionary Data, and also for a .txt / .csv File\n",
    "- Plot a Line Chart for Below Data to Display Company Performance"
   ]
  },
  {
   "cell_type": "markdown",
   "metadata": {},
   "source": [
    "| Year \t| Sales \t| Expenses \t|\n",
    "|------\t|-------\t|----------\t|\n",
    "| 2010 \t| 1000  \t| 400      \t|\n",
    "| 2011 \t| 1170  \t| 460      \t|\n",
    "| 2012 \t| 660   \t| 1120     \t|\n",
    "| 2013 \t| 1030  \t| 540      \t|\n",
    "| 2014 \t| 2193  \t| 1052     \t|\n",
    "| 2015 \t| 1168  \t| 843      \t|"
   ]
  },
  {
   "cell_type": "code",
   "execution_count": 81,
   "metadata": {},
   "outputs": [],
   "source": [
    "import pandas as pd\n",
    "import matplotlib.pyplot as plt\n",
    "%matplotlib inline"
   ]
  },
  {
   "cell_type": "code",
   "execution_count": 82,
   "metadata": {},
   "outputs": [
    {
     "data": {
      "text/html": [
       "<div>\n",
       "<style scoped>\n",
       "    .dataframe tbody tr th:only-of-type {\n",
       "        vertical-align: middle;\n",
       "    }\n",
       "\n",
       "    .dataframe tbody tr th {\n",
       "        vertical-align: top;\n",
       "    }\n",
       "\n",
       "    .dataframe thead th {\n",
       "        text-align: right;\n",
       "    }\n",
       "</style>\n",
       "<table border=\"1\" class=\"dataframe\">\n",
       "  <thead>\n",
       "    <tr style=\"text-align: right;\">\n",
       "      <th></th>\n",
       "      <th>Year</th>\n",
       "      <th>Sales</th>\n",
       "      <th>Expenses</th>\n",
       "    </tr>\n",
       "  </thead>\n",
       "  <tbody>\n",
       "    <tr>\n",
       "      <th>0</th>\n",
       "      <td>2010</td>\n",
       "      <td>1000</td>\n",
       "      <td>400</td>\n",
       "    </tr>\n",
       "    <tr>\n",
       "      <th>1</th>\n",
       "      <td>2011</td>\n",
       "      <td>1170</td>\n",
       "      <td>460</td>\n",
       "    </tr>\n",
       "    <tr>\n",
       "      <th>2</th>\n",
       "      <td>2012</td>\n",
       "      <td>660</td>\n",
       "      <td>1120</td>\n",
       "    </tr>\n",
       "    <tr>\n",
       "      <th>3</th>\n",
       "      <td>2013</td>\n",
       "      <td>1030</td>\n",
       "      <td>540</td>\n",
       "    </tr>\n",
       "    <tr>\n",
       "      <th>4</th>\n",
       "      <td>2014</td>\n",
       "      <td>2193</td>\n",
       "      <td>1052</td>\n",
       "    </tr>\n",
       "    <tr>\n",
       "      <th>5</th>\n",
       "      <td>2015</td>\n",
       "      <td>1168</td>\n",
       "      <td>843</td>\n",
       "    </tr>\n",
       "  </tbody>\n",
       "</table>\n",
       "</div>"
      ],
      "text/plain": [
       "   Year  Sales  Expenses\n",
       "0  2010   1000       400\n",
       "1  2011   1170       460\n",
       "2  2012    660      1120\n",
       "3  2013   1030       540\n",
       "4  2014   2193      1052\n",
       "5  2015   1168       843"
      ]
     },
     "execution_count": 82,
     "metadata": {},
     "output_type": "execute_result"
    }
   ],
   "source": [
    "# Defining a DataFrame using a dictionary\n",
    "dic = {'Year': [2010,2011,2012,2013,2014,2015],\n",
    "       'Sales': [1000, 1170, 660, 1030, 2193, 1168],\n",
    "       'Expenses': [400, 460, 1120, 540, 1052, 843]}\n",
    "\n",
    "data_dic = pd.DataFrame(data = dic, columns=['Year', 'Sales','Expenses'])\n",
    "data_dic"
   ]
  },
  {
   "cell_type": "code",
   "execution_count": 89,
   "metadata": {},
   "outputs": [
    {
     "data": {
      "text/html": [
       "<div>\n",
       "<style scoped>\n",
       "    .dataframe tbody tr th:only-of-type {\n",
       "        vertical-align: middle;\n",
       "    }\n",
       "\n",
       "    .dataframe tbody tr th {\n",
       "        vertical-align: top;\n",
       "    }\n",
       "\n",
       "    .dataframe thead th {\n",
       "        text-align: right;\n",
       "    }\n",
       "</style>\n",
       "<table border=\"1\" class=\"dataframe\">\n",
       "  <thead>\n",
       "    <tr style=\"text-align: right;\">\n",
       "      <th></th>\n",
       "      <th>Year</th>\n",
       "      <th>Sales</th>\n",
       "      <th>Expenses</th>\n",
       "    </tr>\n",
       "  </thead>\n",
       "  <tbody>\n",
       "    <tr>\n",
       "      <th>0</th>\n",
       "      <td>2010</td>\n",
       "      <td>1000</td>\n",
       "      <td>400</td>\n",
       "    </tr>\n",
       "    <tr>\n",
       "      <th>1</th>\n",
       "      <td>2011</td>\n",
       "      <td>1170</td>\n",
       "      <td>460</td>\n",
       "    </tr>\n",
       "    <tr>\n",
       "      <th>2</th>\n",
       "      <td>2012</td>\n",
       "      <td>660</td>\n",
       "      <td>1120</td>\n",
       "    </tr>\n",
       "    <tr>\n",
       "      <th>3</th>\n",
       "      <td>2013</td>\n",
       "      <td>1030</td>\n",
       "      <td>540</td>\n",
       "    </tr>\n",
       "    <tr>\n",
       "      <th>4</th>\n",
       "      <td>2014</td>\n",
       "      <td>2193</td>\n",
       "      <td>1052</td>\n",
       "    </tr>\n",
       "    <tr>\n",
       "      <th>5</th>\n",
       "      <td>2015</td>\n",
       "      <td>1168</td>\n",
       "      <td>843</td>\n",
       "    </tr>\n",
       "  </tbody>\n",
       "</table>\n",
       "</div>"
      ],
      "text/plain": [
       "   Year   Sales   Expenses\n",
       "0  2010    1000        400\n",
       "1  2011    1170        460\n",
       "2  2012     660       1120\n",
       "3  2013    1030        540\n",
       "4  2014    2193       1052\n",
       "5  2015    1168        843"
      ]
     },
     "execution_count": 89,
     "metadata": {},
     "output_type": "execute_result"
    }
   ],
   "source": [
    "# Writing the file\n",
    "f = open('data/dataframe.txt', 'w')\n",
    "f.write('Year, Sales, Expenses\\n')\n",
    "f.write('2010, 1000, 400\\n')\n",
    "f.write('2011, 1170, 460\\n')\n",
    "f.write('2012, 660, 1120\\n')\n",
    "f.write('2013, 1030, 540\\n')\n",
    "f.write('2014, 2193, 1052\\n')\n",
    "f.write('2015, 1168, 843\\n')\n",
    "f.close()\n",
    "\n",
    "# Reading the file\n",
    "f = open('data/df.txt', 'r')\n",
    "f.read()\n",
    "f.close()\n",
    "\n",
    "# Defining a DataFrame using a file\n",
    "data_txt = pd.read_csv('data/dataframe.txt')\n",
    "data_txt"
   ]
  },
  {
   "cell_type": "code",
   "execution_count": 85,
   "metadata": {},
   "outputs": [
    {
     "data": {
      "image/png": "[encoded data removed]",
      "text/plain": [
       "<Figure size 432x288 with 1 Axes>"
      ]
     },
     "metadata": {
      "needs_background": "light"
     },
     "output_type": "display_data"
    }
   ],
   "source": [
    "plt.plot(data_dic['Year'], data_dic['Expenses'])\n",
    "plt.title('Company Performance')\n",
    "plt.xlabel('Year')\n",
    "plt.ylabel('Expenses')\n",
    "plt.show()"
   ]
  },
  {
   "cell_type": "markdown",
   "metadata": {},
   "source": [
    "====="
   ]
  },
  {
   "cell_type": "markdown",
   "metadata": {},
   "source": [
    "# Thank You!"
   ]
  }
 ],
 "metadata": {
  "kernelspec": {
   "display_name": "Python 3",
   "language": "python",
   "name": "python3"
  },
  "language_info": {
   "codemirror_mode": {
    "name": "ipython",
    "version": 3
   },
   "file_extension": ".py",
   "mimetype": "text/x-python",
   "name": "python",
   "nbconvert_exporter": "python",
   "pygments_lexer": "ipython3",
   "version": "3.8.3"
  }
 },
 "nbformat": 4,
 "nbformat_minor": 4
}
