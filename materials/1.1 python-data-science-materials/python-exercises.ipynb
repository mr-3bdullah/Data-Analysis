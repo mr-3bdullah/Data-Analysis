{
 "cells": [
  {
   "cell_type": "markdown",
   "metadata": {},
   "source": [
    "# Python Basic Exercises for Beginners"
   ]
  },
  {
   "cell_type": "markdown",
   "metadata": {},
   "source": [
    "#### 1] Given a two integer numbers return their product, and  if the product is greater than 1000, then return their sum"
   ]
  },
  {
   "cell_type": "code",
   "execution_count": 2,
   "metadata": {},
   "outputs": [
    {
     "name": "stdout",
     "output_type": "stream",
     "text": [
      "Enter the 1st integer: 45\n",
      "Enter the 2nd integer: 88\n",
      "45 + 88 = 133\n"
     ]
    }
   ],
   "source": [
    "# Inputting integers\n",
    "num1 = int(input('Enter the 1st integer: '))\n",
    "num2 = int(input('Enter the 2nd integer: '))\n",
    "\n",
    "# Outputting their product\n",
    "prod = num1 * num2\n",
    "print(f'{num1} * {num2} = {prod}')\n",
    "\n",
    "# Checking for the condition\n",
    "if prod <= 1000:\n",
    "    print(f'As their product > 1000, then their sum is: {num1 + num2}')"
   ]
  },
  {
   "cell_type": "markdown",
   "metadata": {},
   "source": [
    "#### 2] Given a range of first 10 numbers, Iterate from start number to the end number and print the sum of the current number and previous number"
   ]
  },
  {
   "cell_type": "code",
   "execution_count": 8,
   "metadata": {},
   "outputs": [
    {
     "name": "stdout",
     "output_type": "stream",
     "text": [
      "Current: 1, Previous: 0, Sum: 1\n",
      "Current: 2, Previous: 1, Sum: 3\n",
      "Current: 3, Previous: 2, Sum: 5\n",
      "Current: 4, Previous: 3, Sum: 7\n",
      "Current: 5, Previous: 4, Sum: 9\n",
      "Current: 6, Previous: 5, Sum: 11\n",
      "Current: 7, Previous: 6, Sum: 13\n",
      "Current: 8, Previous: 7, Sum: 15\n",
      "Current: 9, Previous: 8, Sum: 17\n"
     ]
    }
   ],
   "source": [
    "# Generating the range\n",
    "for i in range(1,10):\n",
    "    print(f'Current: {i}, Previous: {i-1}, Sum: {i+(i-1)}')"
   ]
  },
  {
   "cell_type": "markdown",
   "metadata": {},
   "source": [
    "#### 3] Given a string, display only those characters which are present at an even index number."
   ]
  },
  {
   "cell_type": "code",
   "execution_count": 16,
   "metadata": {},
   "outputs": [
    {
     "name": "stdout",
     "output_type": "stream",
     "text": [
      "Enter a string: DataScience\n",
      "D t S i n e "
     ]
    }
   ],
   "source": [
    "# Getting the string\n",
    "my_str = input('Enter a string: ')\n",
    "\n",
    "for i in range(len(my_str)):\n",
    "    if i % 2 == 0:\n",
    "        print(my_str[i], end=' ')\n",
    "        \n",
    "# # Another solution\n",
    "# for i in range(0, len(my_str), 2):\n",
    "#     print(my_str[i], end=' ')"
   ]
  },
  {
   "cell_type": "markdown",
   "metadata": {},
   "source": [
    "#### 4] Given a string and an integer number n, remove characters from a string starting from zero up to n and return a new string"
   ]
  },
  {
   "cell_type": "code",
   "execution_count": 18,
   "metadata": {},
   "outputs": [
    {
     "name": "stdout",
     "output_type": "stream",
     "text": [
      "Enter a string: My name is mustafa\n",
      "Enter a number: 4\n",
      "The modified string is: ame is mustafa\n"
     ]
    }
   ],
   "source": [
    "# Let's define a function\n",
    "def remove_chars(my_str, n):\n",
    "    return my_str[n:]\n",
    "\n",
    "# # Also you can define a function using lambda expression\n",
    "# remove_chars = lambda my_str, n: my_str[n:]\n",
    "\n",
    "# Inputting a string and a number\n",
    "input_str = input('Enter a string: ')\n",
    "input_num = int(input('Enter a number: '))\n",
    "\n",
    "print('The modified string is:', remove_chars(input_str, input_num))"
   ]
  },
  {
   "cell_type": "markdown",
   "metadata": {},
   "source": [
    "#### 5] Given a list of numbers, return True if first and last number of a list is same"
   ]
  },
  {
   "cell_type": "code",
   "execution_count": 23,
   "metadata": {},
   "outputs": [
    {
     "name": "stdout",
     "output_type": "stream",
     "text": [
      "Enter a list of numbers seperating each number with a space: 1 2 3 4 5 6 7 8\n",
      "For the given list: ['1', '2', '3', '4', '5', '6', '7', '8']\n",
      "Are the first and last number the same? \n",
      "False\n"
     ]
    }
   ],
   "source": [
    "# Getting the list\n",
    "list_num = input('Enter a list of numbers seperating each number with a space: ').split()\n",
    "\n",
    "print('For the given list:', list_num)\n",
    "print('Are the first and last number the same? ')\n",
    "\n",
    "# Checking for the condition\n",
    "if int(list_num[0]) == int(list_num[-1]):\n",
    "    print(True)\n",
    "else:\n",
    "    print(False)"
   ]
  },
  {
   "cell_type": "markdown",
   "metadata": {},
   "source": [
    "#### 6] Given a list of numbers, Iterate it and print only those numbers which are divisible of 5"
   ]
  },
  {
   "cell_type": "code",
   "execution_count": 30,
   "metadata": {},
   "outputs": [
    {
     "name": "stdout",
     "output_type": "stream",
     "text": [
      "Enter a list of numbers seperating each number with a space: 10 20 33 46 55\n",
      "10 20 55 "
     ]
    }
   ],
   "source": [
    "# Getting the list\n",
    "list_num = input('Enter a list of numbers seperating each number with a space: ').split()\n",
    "\n",
    "for i in range(len(list_num)):\n",
    "    if int(list_num[i]) % 5 == 0:\n",
    "        print(int(list_num[i]), end=' ')"
   ]
  },
  {
   "cell_type": "markdown",
   "metadata": {},
   "source": [
    "#### 7] Return the total count of sub-string “Mustafa” appears in the given string"
   ]
  },
  {
   "cell_type": "code",
   "execution_count": 36,
   "metadata": {},
   "outputs": [
    {
     "name": "stdout",
     "output_type": "stream",
     "text": [
      "Enter a string: My name is Mustafa Othman Mustafa and my nickname is Mustafa El-Nahas\n",
      "\"Mustafa\" is appeared 3 time(s) in your string\n"
     ]
    }
   ],
   "source": [
    "# Inputting a string\n",
    "input_str = input('Enter a string: ').split(' ')\n",
    "count = 0\n",
    "\n",
    "for string in input_str:\n",
    "    if string == 'Mustafa':\n",
    "        count += 1\n",
    "print('\"Mustafa\" is appeared %s time(s) in your string' %count)\n",
    "\n",
    "# Another version using count() method in string\n",
    "# 'My name is Mustafa Othman Mustafa, and my nickname is Mustafa El-Nahas'.count('Mustafa')"
   ]
  },
  {
   "cell_type": "markdown",
   "metadata": {},
   "source": [
    "#### 8] Print the following patterns"
   ]
  },
  {
   "cell_type": "raw",
   "metadata": {},
   "source": [
    "(a)\n",
    "1 \n",
    "1 2 \n",
    "1 2 3 \n",
    "1 2 3 4 \n",
    "1 2 3 4 5"
   ]
  },
  {
   "cell_type": "raw",
   "metadata": {},
   "source": [
    "(b)\n",
    "1 \n",
    "2 2 \n",
    "3 3 3 \n",
    "4 4 4 4 \n",
    "5 5 5 5 5"
   ]
  },
  {
   "cell_type": "code",
   "execution_count": 51,
   "metadata": {},
   "outputs": [
    {
     "name": "stdout",
     "output_type": "stream",
     "text": [
      "1 \n",
      "1 2 \n",
      "1 2 3 \n",
      "1 2 3 4 \n",
      "1 2 3 4 5 \n"
     ]
    }
   ],
   "source": [
    "# Declaring number of rows\n",
    "for i in range(1,6):\n",
    "    # Defining how many '*' will be printed in each row\n",
    "    for j in range(1,i+1):\n",
    "        print(j, end=' ')\n",
    "    print()"
   ]
  },
  {
   "cell_type": "code",
   "execution_count": 50,
   "metadata": {},
   "outputs": [
    {
     "name": "stdout",
     "output_type": "stream",
     "text": [
      "1 \n",
      "2 2 \n",
      "3 3 3 \n",
      "4 4 4 4 \n",
      "5 5 5 5 5 \n"
     ]
    }
   ],
   "source": [
    "for i in range(1,6):\n",
    "    print((str(i)+' ')*i)"
   ]
  },
  {
   "cell_type": "markdown",
   "metadata": {},
   "source": [
    "#### 9] Reverse a given number and return true if it is the same as the original number"
   ]
  },
  {
   "cell_type": "code",
   "execution_count": 44,
   "metadata": {},
   "outputs": [
    {
     "name": "stdout",
     "output_type": "stream",
     "text": [
      "Enter a number: 121\n",
      "The original number is: 121\n",
      "The reversed number is: 121\n",
      "Are they the same? True\n"
     ]
    }
   ],
   "source": [
    "# Inputting a number\n",
    "num = input('Enter a number: ')\n",
    "\n",
    "print('The original number is:', num)\n",
    "\n",
    "reversed_num = num[::-1]\n",
    "\n",
    "print('The reversed number is:', reversed_num)\n",
    "\n",
    "if num == reversed_num:\n",
    "    print('Are they the same? True')"
   ]
  },
  {
   "cell_type": "markdown",
   "metadata": {},
   "source": [
    "#### 10] Given a two list of numbers create a new list such that new list should contain only odd numbers from the first list and even numbers from the second list"
   ]
  },
  {
   "cell_type": "code",
   "execution_count": 53,
   "metadata": {},
   "outputs": [
    {
     "name": "stdout",
     "output_type": "stream",
     "text": [
      "Enter the 1st list of numbers seperating each number with a space: 1 2 3 4 5 6 7 8 9 10\n",
      "Enter the 2nd list of numbers seperating each number with a space: 1 2 3 4 5 6 7 8 9 10\n",
      "Our final list is: [1, 3, 5, 7, 9, 2, 4, 6, 8, 10]\n"
     ]
    }
   ],
   "source": [
    "# Getting the lists\n",
    "list_num1 = input('Enter the 1st list of numbers seperating each number with a space: ').split()\n",
    "list_num2 = input('Enter the 2nd list of numbers seperating each number with a space: ').split()\n",
    "\n",
    "# The new 3rd list\n",
    "list_num3 = []\n",
    "\n",
    "# Iterating over the 1st list\n",
    "for i in range(len(list_num1)):\n",
    "    if int(list_num1[i]) % 2 != 0:\n",
    "        list_num3.append(int(list_num1[i]))\n",
    "\n",
    "# Iterating over the 2nd list\n",
    "for i in range(len(list_num2)):\n",
    "    if int(list_num2[i]) % 2 == 0:\n",
    "        list_num3.append(int(list_num2[i]))\n",
    "        \n",
    "# Printing the new list\n",
    "print('Our final list is:', list_num3)"
   ]
  },
  {
   "cell_type": "markdown",
   "metadata": {},
   "source": [
    "#### 11] Write a code to extract each digit from an integer, in the reverse order"
   ]
  },
  {
   "cell_type": "code",
   "execution_count": 66,
   "metadata": {},
   "outputs": [
    {
     "name": "stdout",
     "output_type": "stream",
     "text": [
      "Enter a number: 123\n",
      "1 2 3 "
     ]
    }
   ],
   "source": [
    "# Getting a number\n",
    "n = input('Enter a number: ')\n",
    "\n",
    "# Printing digits from this number\n",
    "for i in n:\n",
    "    print(i, end=' ')"
   ]
  },
  {
   "cell_type": "markdown",
   "metadata": {},
   "source": [
    "#### 12] Print multiplication table form 1 to 10"
   ]
  },
  {
   "cell_type": "code",
   "execution_count": 75,
   "metadata": {},
   "outputs": [
    {
     "name": "stdout",
     "output_type": "stream",
     "text": [
      "1 2 3 4 5 6 7 8 9 10 \n",
      "2 4 6 8 10 12 14 16 18 20 \n",
      "3 6 9 12 15 18 21 24 27 30 \n",
      "4 8 12 16 20 24 28 32 36 40 \n",
      "5 10 15 20 25 30 35 40 45 50 \n",
      "6 12 18 24 30 36 42 48 54 60 \n",
      "7 14 21 28 35 42 49 56 63 70 \n",
      "8 16 24 32 40 48 56 64 72 80 \n",
      "9 18 27 36 45 54 63 72 81 90 \n",
      "10 20 30 40 50 60 70 80 90 100 \n"
     ]
    }
   ],
   "source": [
    "for i in range(1,11):\n",
    "    for j in range(1,11):\n",
    "        print(i * j, end=' ')\n",
    "    print()"
   ]
  },
  {
   "cell_type": "markdown",
   "metadata": {},
   "source": [
    "#### 13] Print downward Half-Pyramid Pattern with Star (asterisk)"
   ]
  },
  {
   "cell_type": "raw",
   "metadata": {},
   "source": [
    "* * * * *  \n",
    "* * * *  \n",
    "* * *  \n",
    "* *  \n",
    "*"
   ]
  },
  {
   "cell_type": "code",
   "execution_count": 43,
   "metadata": {},
   "outputs": [
    {
     "name": "stdout",
     "output_type": "stream",
     "text": [
      "*****\n",
      "****\n",
      "***\n",
      "**\n",
      "*\n"
     ]
    }
   ],
   "source": [
    "# Declaring number of rows\n",
    "for i in range(5,0,-1):\n",
    "    # Defining how many '*' will be printed in each row\n",
    "    for j in range(i):\n",
    "        print('*', end='')\n",
    "    print()"
   ]
  },
  {
   "cell_type": "markdown",
   "metadata": {},
   "source": [
    "#### 14] Write a function called exponent(base, exp) that returns an int value of base raises to the power of exp."
   ]
  },
  {
   "cell_type": "code",
   "execution_count": 82,
   "metadata": {},
   "outputs": [
    {
     "name": "stdout",
     "output_type": "stream",
     "text": [
      "Enter a base value: 2\n",
      "Also, enter an exponent value: 4\n",
      "2^4  = 16\n"
     ]
    }
   ],
   "source": [
    "def exponent(base, exp):\n",
    "    result = 1\n",
    "    while exp > 0:\n",
    "        result *= base\n",
    "        exp -= 1\n",
    "    return result\n",
    "\n",
    "# Inputting base and exponent\n",
    "b = int(input('Enter a base value: '))\n",
    "x = int(input('Also, enter an exponent value: '))\n",
    "\n",
    "print(f'{b}^{x}  = {exponent(b,x)}')"
   ]
  },
  {
   "cell_type": "markdown",
   "metadata": {},
   "source": [
    "#### 15] Calculate income tax for the given income by adhering to the below rules\n",
    "\n",
    "| Taxable Income \t| Rate (%) \t|\n",
    "|----------------\t|----------\t|\n",
    "| First 10,000 USD \t| 0        \t|\n",
    "| Next 10,000 USD  \t| 10       \t|\n",
    "| The remaining USD\t| 20       \t|"
   ]
  },
  {
   "cell_type": "code",
   "execution_count": null,
   "metadata": {},
   "outputs": [],
   "source": []
  },
  {
   "cell_type": "markdown",
   "metadata": {},
   "source": [
    "# THANK YOU!"
   ]
  }
 ],
 "metadata": {
  "kernelspec": {
   "display_name": "Python 3",
   "language": "python",
   "name": "python3"
  },
  "language_info": {
   "codemirror_mode": {
    "name": "ipython",
    "version": 3
   },
   "file_extension": ".py",
   "mimetype": "text/x-python",
   "name": "python",
   "nbconvert_exporter": "python",
   "pygments_lexer": "ipython3",
   "version": "3.8.3"
  }
 },
 "nbformat": 4,
 "nbformat_minor": 4
}
